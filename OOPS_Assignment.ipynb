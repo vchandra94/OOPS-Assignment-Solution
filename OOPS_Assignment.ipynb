{
  "nbformat": 4,
  "nbformat_minor": 0,
  "metadata": {
    "colab": {
      "provenance": []
    },
    "kernelspec": {
      "name": "python3",
      "display_name": "Python 3"
    },
    "language_info": {
      "name": "python"
    }
  },
  "cells": [
    {
      "cell_type": "markdown",
      "source": [
        "#Python OOPs Questions and their Answers\n"
      ],
      "metadata": {
        "id": "GpuDl-8Gy3vU"
      }
    },
    {
      "cell_type": "markdown",
      "source": [
        "**Question-1)** What is Object-Oriented Programming (OOP)?\n",
        "\n",
        "**Answer-1)** Object-Oriented Programming (OOP) is a programming paradigm based on the concept of \"objects\", which are instances of classes that encapsulate data (attributes) and behavior (methods) together.\n",
        "\n",
        "We use OOPS in python to organise code into reusable pieces, Makes code more readable and maintainable, Supports real-world modeling (e.g., cars, users, accounts).\n",
        "\n",
        "**Key Concepts of OOP:**\n",
        "\n",
        "i)Class- A template for creating objects.\n",
        "\n",
        "ii)Object- An instance of a class.\n",
        "\n",
        "iii)Encapsulation- Bundling data and methods together.\n",
        "\n",
        "iv)Inheritance- One class can derive from another.\n",
        "\n",
        "v)Polymorphism- Different classes can define methods with the same name.\n",
        "\n",
        "vi)Abstraction- Hiding internal details and showing only functionality.\n",
        "\n",
        "**In summary:**\n",
        "\n",
        "OOP in Python lets you structure programs using classes and objects to represent real-world entities, encapsulate behavior, and promote code reuse.\n"
      ],
      "metadata": {
        "id": "SLZ5TnLdy5b8"
      }
    },
    {
      "cell_type": "markdown",
      "source": [
        "**Question-2)** What is a class in OOP?\n",
        "\n",
        "**Answer-2)**  A class in Python is a blueprint or template for creating objects. It defines the attributes (data) and methods (functions) that the created objects (instances) will have.\n",
        "\n",
        " **Key Points:**\n",
        "i) class keyword is used to define a class.\n",
        "\n",
        "ii) __init__() is the constructor method that initializes object attributes.\n",
        "\n",
        "iii) self refers to the current instance of the class.\n",
        "\n",
        "iv) Classes allow for creating multiple objects with the same structure but different data.\n",
        "\n",
        "In short:- A class in Python OOP defines the structure and behavior of the objects, acting as a template to create reusable and organized code.\n",
        "\n",
        " Example:"
      ],
      "metadata": {
        "id": "HOcW1Aary1iO"
      }
    },
    {
      "cell_type": "code",
      "source": [
        "class Car:\n",
        "    def __init__(self, brand, model):\n",
        "        self.brand = brand\n",
        "        self.model = model\n",
        "    def drive(self):\n",
        "        print(f\"{self.brand} {self.model} is driving.\")\n",
        "\n",
        "# Creating objects (instances)\n",
        "car1 = Car(\"Toyota\", \"Corolla\")\n",
        "car1.drive()  # Output: Toyota Corolla is driving."
      ],
      "metadata": {
        "colab": {
          "base_uri": "https://localhost:8080/"
        },
        "id": "nmZm-BQS3pab",
        "outputId": "0ca3552e-7b1b-4549-bc18-28a1d1650af1"
      },
      "execution_count": null,
      "outputs": [
        {
          "output_type": "stream",
          "name": "stdout",
          "text": [
            "Toyota Corolla is driving.\n"
          ]
        }
      ]
    },
    {
      "cell_type": "markdown",
      "source": [
        "**Question-3)** What is an object in OOP?\n",
        "\n",
        "**Answer-3)**  An object is an instance of a class. It represents a real-world entity with attributes (data) and behaviors (methods) defined by its class.\n",
        "\n",
        "A class is a blueprint. An object is the real thing built from that blueprint.\n",
        "\n",
        "In Short:\n",
        "An object in Python OOP is a concrete instance of a class, containing actual data and able to perform actions defined by the class.\n",
        "\n",
        "Example:"
      ],
      "metadata": {
        "id": "8EmuTj4iyPVW"
      }
    },
    {
      "cell_type": "code",
      "source": [
        "class Dog:\n",
        "    def __init__(self, name, breed):\n",
        "        self.name = name\n",
        "        self.breed = breed\n",
        "\n",
        "    def bark(self):\n",
        "        print(f\"{self.name} says woof!\")\n",
        "\n",
        "# Creating objects from the class\n",
        "dog1 = Dog(\"Max\", \"Labrador\")\n",
        "dog2 = Dog(\"Bella\", \"Beagle\")\n",
        "\n",
        "dog1.bark()  # Output: Max says woof!\n",
        "dog2.bark()  # Output: Bella says woof!"
      ],
      "metadata": {
        "colab": {
          "base_uri": "https://localhost:8080/"
        },
        "id": "PgixS9kt5QPT",
        "outputId": "68b4ff19-2eb1-4156-8587-90aa81c1e8ed"
      },
      "execution_count": null,
      "outputs": [
        {
          "output_type": "stream",
          "name": "stdout",
          "text": [
            "Max says woof!\n",
            "Bella says woof!\n"
          ]
        }
      ]
    },
    {
      "cell_type": "markdown",
      "source": [
        " Key Points:\n",
        "\n",
        "dog1 and dog2 are objects of the class Dog.\n",
        "\n",
        "Each object has its own data (like name and breed).\n",
        "\n",
        "Objects use methods defined in the class (like .bark())."
      ],
      "metadata": {
        "id": "dbnivHOxyb_k"
      }
    },
    {
      "cell_type": "markdown",
      "source": [
        "."
      ],
      "metadata": {
        "id": "vUf9Rakf_mUM"
      }
    },
    {
      "cell_type": "markdown",
      "source": [
        "**Question-4)** What is the difference between abstraction and encapsulation?\n",
        "\n",
        "**Answer-4)**\n",
        "\n",
        "Abstraction and encapsulation are two fundamental concepts in Object-Oriented Programming (OOP) that often get confused because they both involve \"hiding\" details. However, they serve different purposes and operate at different levels.\n",
        "\n",
        "Here's a breakdown of the key differences:\n",
        "\n",
        "**Abstraction** :-\n",
        "i) Focuses on \"what\" an object does. Abstraction is about simplifying complex systems by showing only the necessary and essential features to the user, while hiding the complex implementation details.\n",
        "\n",
        "ii) Solves problems at the design or interface level. It's about designing a clear, high-level interface that a user can interact with without needing to know the inner workings.\n",
        "\n",
        "iii) Real-world analogy: Think of a car's dashboard. We, the driver, use the steering wheel, pedals, and gear shift to control the car. We don't need to know how the engine, transmission, or fuel system work to drive. The dashboard is the abstraction—it provides a simple interface to a complex machine.\n",
        "\n",
        "iv) In Python: Abstraction is often implemented using Abstract Base Classes (ABCs) from the abc module. An ABC defines a common interface and abstract methods that must be implemented by any concrete subclass. This enforces a specific structure and ensures that subclasses adhere to a certain contract.\n",
        "\n",
        "**Encapsulation** :-\n",
        "i) Focuses on \"how\" an object does something. Encapsulation is the practice of bundling data (attributes) and the methods that operate on that data into a single unit (a class). It's about protecting the data from outside interference and misuse.\n",
        "\n",
        "ii) Solves problems at the implementation level. It's a mechanism for data hiding, where the internal state of an object is kept private and can only be accessed or modified through controlled methods (often called \"getters\" and \"setters\").\n",
        "\n",
        "iii) Real-world analogy: Think of a smartphone. All the components—the battery, the processor, the screen, the memory—are bundled together inside the phone's case. You can't directly access or change these components. We interact with them through a well-defined interface, like the operating system and apps. This bundling and protection of internal data is encapsulation.\n",
        "\n",
        "iv) In Python: Python achieves encapsulation through a convention of using special naming conventions. A single leading underscore (_) is a convention to indicate a \"protected\" member (intended for internal use by the class and its subclasses), while a double leading underscore (__) makes a member \"private\" by name mangling, making it harder to access from outside the class.\n",
        "\n",
        "**In Summary:**\n",
        "Abstraction simplifies complexity by focusing only on the important things — it hides how something works.\n",
        "\n",
        "Encapsulation protects the internal state by controlling who can access or modify data, and how they do it.\n",
        "\n",
        "While abstraction is about designing clean interfaces, encapsulation is about safeguarding data and enforcing rules around its use. Both help make code more secure, modular, and easier to manage.\n"
      ],
      "metadata": {
        "id": "jFQSgcTex-Fi"
      }
    },
    {
      "cell_type": "markdown",
      "source": [
        "**Question-5)** What are dunder methods in Python?\n",
        "\n",
        "**Answer-5)** Dunder methods in Python (short for \"double underscore\" methods) are special built-in methods that have names surrounded by double underscores, like __init__, __str__, __len__, etc.\n",
        "\n",
        "They are also called \"magic methods\" or \"special methods\" and are used to define or customize the behavior of objects in certain situations — such as when printing, adding, comparing, or using built-in functions.\n",
        "\n",
        "Dunder methods let your objects interact with Python’s built-in syntax and functions. For example:\n",
        "\n",
        "__init__() runs automatically when you create an object.\n",
        "\n",
        "__str__() controls what print(object) displays.\n",
        "\n",
        "__len__() allows your object to be passed to len()."
      ],
      "metadata": {
        "id": "wUtuiEZx_uSe"
      }
    },
    {
      "cell_type": "code",
      "source": [
        "class Book:\n",
        "    def __init__(self, title):\n",
        "        self.title = title\n",
        "\n",
        "    def __str__(self):\n",
        "        return f\"Book: {self.title}\"\n",
        "\n",
        "book = Book(\"Python Basics\")\n",
        "print(book)  # Output: Book: Python Basics"
      ],
      "metadata": {
        "colab": {
          "base_uri": "https://localhost:8080/"
        },
        "id": "qKF8QdMBBYN3",
        "outputId": "c036e8de-56db-4a61-a34e-a203088e1d2d"
      },
      "execution_count": null,
      "outputs": [
        {
          "output_type": "stream",
          "name": "stdout",
          "text": [
            "Book: Python Basics\n"
          ]
        }
      ]
    },
    {
      "cell_type": "markdown",
      "source": [
        "Here:\n",
        "\n",
        "__init__ sets the title when the object is created.\n",
        "\n",
        "__str__ defines how the object appears when printed.\n",
        "\n",
        "In Simple Words:\n",
        "\n",
        "Dunder methods are special functions that let you make your custom objects behave like built-in types. They give your class the power to respond to Python operations and functions in a meaningful way."
      ],
      "metadata": {
        "id": "hkSBe-r1BcDh"
      }
    },
    {
      "cell_type": "markdown",
      "source": [
        "**Question-6)** Explain the concept of inheritance in OOP.\n",
        "\n",
        "**Answer-6)**  Inheritance is a fundamental concept in Object-Oriented Programming (OOP) that allows a class to acquire the properties and behaviors (methods and attributes) of another class.\n",
        "\n",
        "In Python, inheritance lets you create a new class (called a child or subclass) based on an existing class (called a parent or superclass). This promotes code reuse, modularity, and extensibility.\n",
        "It is to reuse existing code without rewriting it.\n",
        "It is to extend or customize the behavior of the parent class.\n",
        "it is to maintain a clear hierarchy between related classes.\n",
        "\n",
        " Basic Example:"
      ],
      "metadata": {
        "id": "oMbON4WlBoqz"
      }
    },
    {
      "cell_type": "code",
      "source": [
        "# Parent class\n",
        "class Animal:\n",
        "    def __init__(self, name):\n",
        "        self.name = name\n",
        "\n",
        "    def speak(self):\n",
        "        print(f\"{self.name} makes a sound.\")\n",
        "\n",
        "# Child class\n",
        "class Dog(Animal):  # Dog inherits from Animal\n",
        "    def speak(self):\n",
        "        print(f\"{self.name} barks.\")\n",
        "d = Dog(\"Buddy\")\n",
        "d.speak()  # Output: Buddy barks."
      ],
      "metadata": {
        "colab": {
          "base_uri": "https://localhost:8080/"
        },
        "id": "lSfAuwU_Baez",
        "outputId": "35ebc4e9-32a9-447d-df9c-f341eced317f"
      },
      "execution_count": null,
      "outputs": [
        {
          "output_type": "stream",
          "name": "stdout",
          "text": [
            "Buddy barks.\n"
          ]
        }
      ]
    },
    {
      "cell_type": "markdown",
      "source": [
        "**Key Points:**\n",
        "\n",
        "Dog(Animal) means Dog inherits from Animal.\n",
        "\n",
        "The Dog class overrides the speak() method from Animal.\n",
        "\n",
        "If a method is not found in the child class, Python automatically looks for it in the parent class.\n",
        "\n",
        "**Types of Inheritance in Python:**\n",
        "\n",
        "1) Single Inheritance- One child, one parent.\n",
        "\n",
        "2) Multiple Inheritance- A child class inherits from multiple parent classes.\n",
        "\n",
        "3) Multilevel Inheritance- A class inherits from a child class of another class.\n",
        "\n",
        "4) Hierarchical Inheritance0- Multiple child classes inherit from one parent.\n",
        "\n",
        "5) Hybrid Inheritance- Combination of two or more types above.\n",
        "\n",
        "**In Simple Words:**\n",
        "\n",
        "Inheritance lets you create a new class based on an existing one, so you can reuse code, add new features, or change behavior without starting from scratch."
      ],
      "metadata": {
        "id": "cYAtFByxCtv-"
      }
    },
    {
      "cell_type": "markdown",
      "source": [
        "**Question-7)** What is polymorphism in OOP?\n",
        "\n",
        "**Answer-7)** Polymorphism is a core concept in Object-Oriented Programming that means “many forms.”\n",
        "In Python, polymorphism allows the same method or function name to behave differently depending on the object it is acting on.\n",
        "\n",
        "It is to write flexible and reusable code.\n",
        "It is to allow different classes to be used interchangeably.\n",
        "It is to support method overriding and dynamic behavior.\n",
        "\n",
        "Example 1: Polymorphism with Methods"
      ],
      "metadata": {
        "id": "-9V1fC31DgkC"
      }
    },
    {
      "cell_type": "code",
      "source": [
        "class Dog:\n",
        "    def speak(self):\n",
        "        return \"Woof!\"\n",
        "\n",
        "class Cat:\n",
        "    def speak(self):\n",
        "        return \"Meow!\"\n",
        "\n",
        "# Polymorphism in action\n",
        "def animal_sound(animal):\n",
        "    print(animal.speak())\n",
        "\n",
        "animal_sound(Dog())  # Output: Woof!\n",
        "animal_sound(Cat())  # Output: Meow!"
      ],
      "metadata": {
        "colab": {
          "base_uri": "https://localhost:8080/"
        },
        "id": "03W36_xrCrrq",
        "outputId": "c9d2aade-1403-4f73-8bae-de815a5a6e2b"
      },
      "execution_count": null,
      "outputs": [
        {
          "output_type": "stream",
          "name": "stdout",
          "text": [
            "Woof!\n",
            "Meow!\n"
          ]
        }
      ]
    },
    {
      "cell_type": "markdown",
      "source": [
        "Here, the animal_sound() function works with any object that has a speak() method, regardless of its class.\n",
        "\n",
        "Example 2: Polymorphism with Inheritance (Method Overriding)"
      ],
      "metadata": {
        "id": "eWcNw91wEsP2"
      }
    },
    {
      "cell_type": "code",
      "source": [
        "class Animal:\n",
        "    def make_sound(self):\n",
        "        print(\"Some generic sound\")\n",
        "\n",
        "class Bird(Animal):\n",
        "    def make_sound(self):\n",
        "        print(\"Tweet\")\n",
        "\n",
        "a = Animal()\n",
        "b = Bird()\n",
        "\n",
        "a.make_sound()  # Output: Some generic sound\n",
        "b.make_sound()  # Output: Tweet"
      ],
      "metadata": {
        "colab": {
          "base_uri": "https://localhost:8080/"
        },
        "id": "y0G6V6y1E5BY",
        "outputId": "f18e084d-4fb6-4e27-c8ae-72dae8a43588"
      },
      "execution_count": null,
      "outputs": [
        {
          "output_type": "stream",
          "name": "stdout",
          "text": [
            "Some generic sound\n",
            "Tweet\n"
          ]
        }
      ]
    },
    {
      "cell_type": "markdown",
      "source": [
        "The make_sound() method is overridden in the Bird subclass, showing polymorphic behavior.\n",
        "\n",
        "**In Simple Words:**\n",
        "Polymorphism in Python lets you use the same method name or interface for different types of objects, and the correct behavior is chosen automatically at runtime, based on the object's class."
      ],
      "metadata": {
        "id": "O9cSKjZGE_Ih"
      }
    },
    {
      "cell_type": "markdown",
      "source": [
        "**Question-8)** How is encapsulation achieved in Python?\n",
        "\n",
        "**Answer-8)** Encapsulation is the process of bundling data (attributes) and the methods that operate on that data into a single unit (a class), and restricting direct access to some of the object’s components to protect the internal state.\n",
        "\n",
        "In Python, encapsulation is achieved using:\n",
        "\n",
        "1)Public members: Can be accessed from anywhere.\n",
        "\n",
        "2)Protected members: Prefix with a single underscore _ (convention-based, still accessible).\n",
        "\n",
        "3)Private members: Prefix with double underscores __ (name mangling to prevent direct access).\n",
        "\n",
        "Example:-"
      ],
      "metadata": {
        "id": "gpCJCBxKFLLj"
      }
    },
    {
      "cell_type": "code",
      "source": [
        "class Person:\n",
        "    def __init__(self, name, age):\n",
        "        self.name = name          # public\n",
        "        self._age = age           # protected (by convention)\n",
        "        self.__salary = 50000     # private (name mangled)\n",
        "\n",
        "    def get_salary(self):         # getter\n",
        "        return self.__salary\n",
        "\n",
        "    def set_salary(self, amount): # setter\n",
        "        if amount > 0:\n",
        "            self.__salary = amount\n",
        "\n",
        "p = Person(\"Alice\", 30)\n",
        "\n",
        "print(p.name)        # Accessible\n",
        "print(p._age)        # Accessible (but not recommended)\n",
        "# print(p.__salary)  # Raises AttributeError\n",
        "\n",
        "print(p.get_salary())  # Access via getter\n",
        "p.set_salary(60000)    # Modify via setter\n"
      ],
      "metadata": {
        "colab": {
          "base_uri": "https://localhost:8080/"
        },
        "id": "TRWjjx7MErUi",
        "outputId": "a80ee474-83ca-40c3-bef7-8f7615f4a84a"
      },
      "execution_count": null,
      "outputs": [
        {
          "output_type": "stream",
          "name": "stdout",
          "text": [
            "Alice\n",
            "30\n",
            "50000\n"
          ]
        }
      ]
    },
    {
      "cell_type": "markdown",
      "source": [
        "In the above example-\n",
        "Python mangles private variables: __salary becomes _Person__salary.\n",
        "\n",
        "We can still access them using the mangled name (p._Person__salary), but you shouldn’t — this breaks encapsulation.\n",
        "\n",
        "**Summary:**\n",
        "\n",
        "Encapsulation in Python is achieved by:\n",
        "\n",
        "Using classes to group data and behavior together.\n",
        "\n",
        "Restricting access to variables using private (__var) and protected (_var) naming.\n",
        "\n",
        "Controlling access through getter and setter methods.\n",
        "\n",
        "This helps protect the object’s internal state and enforces better design and maintenance."
      ],
      "metadata": {
        "id": "tO8e5MqkG4NM"
      }
    },
    {
      "cell_type": "markdown",
      "source": [
        "**Question-9)** What is a constructor in Python?\n",
        "\n",
        "**Answer-9)** A constructor in Python is a special method that is automatically called when a new object of a class is created. Its main purpose is to initialize the object’s attributes.\n",
        "\n",
        "In Python, the constructor method is:\n",
        "\n",
        "def __init__(self, ...):\n",
        "\n",
        "a) __init__ is a dunder method (double underscore).\n",
        "\n",
        "b) self refers to the instance being created.\n",
        "\n",
        "Example:-"
      ],
      "metadata": {
        "id": "riNqlBzkHV4s"
      }
    },
    {
      "cell_type": "code",
      "source": [
        "class Person:\n",
        "    def __init__(self, name, age):\n",
        "        self.name = name  # initialize name\n",
        "        self.age = age    # initialize age\n",
        "\n",
        "# Creating an object\n",
        "p = Person(\"Alice\", 25)\n",
        "\n",
        "print(p.name)  # Output: Alice\n",
        "print(p.age)   # Output: 25"
      ],
      "metadata": {
        "colab": {
          "base_uri": "https://localhost:8080/"
        },
        "id": "JuxHmY-2F-aG",
        "outputId": "4f7e10f2-6b53-4563-d606-453c49dcf003"
      },
      "execution_count": null,
      "outputs": [
        {
          "output_type": "stream",
          "name": "stdout",
          "text": [
            "Alice\n",
            "25\n"
          ]
        }
      ]
    },
    {
      "cell_type": "markdown",
      "source": [
        "When Person(\"Alice\", 25) is called, Python runs the __init__ constructor to initialize name and age.\n",
        "\n",
        "**Key Points:**\n",
        "\n",
        "a) The constructor is used to set initial values for object properties.\n",
        "\n",
        "b) It runs automatically when you create an object.\n",
        "\n",
        "c) We can define your own constructor by writing __init__() in your class.\n",
        "\n",
        "**In Simple Words:**\n",
        "\n",
        "A constructor in Python is a special function (__init__) that sets up an object when it’s created, usually by assigning values to its attributes."
      ],
      "metadata": {
        "id": "h5MXclfaIQns"
      }
    },
    {
      "cell_type": "markdown",
      "source": [
        "**Question-10)** What are class and static methods in Python?\n",
        "\n",
        "**Answer-10)**\n",
        "In Python, methods inside a class can be:\n",
        "\n",
        "Instance methods (the default — use self)\n",
        "\n",
        "Class methods (use @classmethod and cls)\n",
        "\n",
        "Static methods (use @staticmethod and no self or cls)\n",
        "\n",
        "Let’s focus on class methods and static methods:\n",
        "\n",
        " 1. Class Method\n",
        "\n",
        " a)Defined with the @classmethod decorator.\n",
        "\n",
        " b)Takes cls as the first parameter instead of self.\n",
        "\n",
        " c)Can access or modify class-level data (not instance data).\n",
        "\n",
        " d)Can be called using the class name or an instance.\n",
        "\n",
        "Example:"
      ],
      "metadata": {
        "id": "qPSlFTt-I4XH"
      }
    },
    {
      "cell_type": "code",
      "source": [
        "class Student:\n",
        "    school = \"ABC School\"\n",
        "\n",
        "    @classmethod\n",
        "    def get_school(cls):\n",
        "        return cls.school\n",
        "\n",
        "print(Student.get_school())  # Output: ABC School"
      ],
      "metadata": {
        "colab": {
          "base_uri": "https://localhost:8080/"
        },
        "id": "WIsukqZfIPr_",
        "outputId": "40fcdbd9-41d9-42ec-a16f-cced0e7dede2"
      },
      "execution_count": null,
      "outputs": [
        {
          "output_type": "stream",
          "name": "stdout",
          "text": [
            "ABC School\n"
          ]
        }
      ]
    },
    {
      "cell_type": "markdown",
      "source": [
        " 2. Static Method\n",
        "\n",
        " a)Defined with the @staticmethod decorator.\n",
        "\n",
        " b)Does not take self or cls as a parameter.\n",
        "\n",
        " c)Behaves like a regular function, but belongs to the class’s namespace.\n",
        "\n",
        " d)Used for utility/helper functions that don’t need access to instance or class data.\n",
        "\n",
        "Example:"
      ],
      "metadata": {
        "id": "Ca77llHxRQMF"
      }
    },
    {
      "cell_type": "code",
      "source": [
        "class Math:\n",
        "    @staticmethod\n",
        "    def add(x, y):\n",
        "        return x + y\n",
        "\n",
        "print(Math.add(5, 3))  # Output: 8"
      ],
      "metadata": {
        "colab": {
          "base_uri": "https://localhost:8080/"
        },
        "id": "TMcFrLQpRO3S",
        "outputId": "b1e4a2e3-4322-499e-ff9a-46d2e755b8f1"
      },
      "execution_count": null,
      "outputs": [
        {
          "output_type": "stream",
          "name": "stdout",
          "text": [
            "8\n"
          ]
        }
      ]
    },
    {
      "cell_type": "markdown",
      "source": [
        "**Summary:**\n",
        "\n",
        " a)Class methods use cls, work with class-level data.\n",
        "\n",
        " b)Static methods don’t need self or cls, used for independent utility functions.\n",
        "\n",
        " c)Both can be called on the class itself (no object needed).\n",
        "\n",
        "These help organize our code more cleanly when certain functionality is related to the class but not tied to a specific object instance."
      ],
      "metadata": {
        "id": "sLH2ZfOJRu-T"
      }
    },
    {
      "cell_type": "markdown",
      "source": [
        "**Question-11)** What is method overloading in Python?\n",
        "\n",
        "**Answer-11)** Method overloading is a feature in some object-oriented programming languages that allows a class to have multiple methods with the same name but different parameters. The correct method to be executed is chosen based on the number and/or type of arguments passed to it.\n",
        "\n",
        "**However, Python does not support method overloading in the traditional sense.**\n",
        "\n",
        "Due to Python's dynamic typing and its handling of function definitions, if you define multiple methods with the same name in a class, the last definition will simply overwrite all the previous ones.\n",
        "\n",
        "Example:-"
      ],
      "metadata": {
        "id": "mtjbwoIkR9AE"
      }
    },
    {
      "cell_type": "code",
      "source": [
        "class Calculator:\n",
        "    def add(self, a, b):\n",
        "        return a + b\n",
        "\n",
        "    def add(self, a, b, c): # This method overwrites the previous 'add'\n",
        "        return a + b + c\n",
        "\n",
        "calc = Calculator()\n",
        "# print(calc.add(1, 2)) # This will cause a TypeError, because it expects 3 arguments\n",
        "print(calc.add(1, 2, 3)) # Output: 6"
      ],
      "metadata": {
        "colab": {
          "base_uri": "https://localhost:8080/"
        },
        "id": "kW-Bt1wHRrQE",
        "outputId": "cfc65c12-bd1a-47cf-8936-2b8cb50e4358"
      },
      "execution_count": null,
      "outputs": [
        {
          "output_type": "stream",
          "name": "stdout",
          "text": [
            "6\n"
          ]
        }
      ]
    },
    {
      "cell_type": "markdown",
      "source": [
        "In the example above, the first add method is completely replaced by the second one, so calling it with only two arguments results in an error.\n",
        "\n",
        "How to Achieve Similar Functionality in Python\n",
        "While Python doesn't have native method overloading, you can achieve similar flexible behavior using several techniques:\n",
        "\n",
        "1. Default Arguments: This is the most common and \"Pythonic\" way to handle varying numbers of arguments. You define a single method and give its parameters default values."
      ],
      "metadata": {
        "id": "FiQMQbe8UDf6"
      }
    },
    {
      "cell_type": "code",
      "source": [
        "class Calculator:\n",
        "    def add(self, a, b, c=None):\n",
        "        if c is not None:\n",
        "            return a + b + c\n",
        "        else:\n",
        "            return a + b\n",
        "\n",
        "calc = Calculator()\n",
        "print(calc.add(1, 2))      # Output: 3\n",
        "print(calc.add(1, 2, 3))   # Output: 6"
      ],
      "metadata": {
        "colab": {
          "base_uri": "https://localhost:8080/"
        },
        "id": "uNjOAgepUCOU",
        "outputId": "04b2cdb5-9a2a-4530-ef5e-ae23ae8f1cae"
      },
      "execution_count": null,
      "outputs": [
        {
          "output_type": "stream",
          "name": "stdout",
          "text": [
            "3\n",
            "6\n"
          ]
        }
      ]
    },
    {
      "cell_type": "markdown",
      "source": [
        "2. Variable-Length Arguments (*args and **kwargs): You can use *args to accept a variable number of positional arguments."
      ],
      "metadata": {
        "id": "LYjZDgumUtsQ"
      }
    },
    {
      "cell_type": "code",
      "source": [
        "class Calculator:\n",
        "    def add(self, *args):\n",
        "        return sum(args)\n",
        "\n",
        "calc = Calculator()\n",
        "print(calc.add(1, 2))          # Output: 3\n",
        "print(calc.add(1, 2, 3, 4))    # Output: 10"
      ],
      "metadata": {
        "colab": {
          "base_uri": "https://localhost:8080/"
        },
        "id": "uuEcmNWfUitP",
        "outputId": "787d73d1-87da-405c-e542-9c4bde63a69c"
      },
      "execution_count": null,
      "outputs": [
        {
          "output_type": "stream",
          "name": "stdout",
          "text": [
            "3\n",
            "10\n"
          ]
        }
      ]
    },
    {
      "cell_type": "markdown",
      "source": [
        "3. Third-Party Libraries: For more complex scenarios, especially when you need to dispatch methods based on argument types (similar to static languages), you can use third-party libraries like multidipatch. This library allows you to use a @dispatch decorator to define multiple functions with the same name but with different argument signatures.\n",
        "\n",
        "In conclusion, while method overloading as a core language feature does not exist in Python, its dynamic nature and flexible argument handling mechanisms provide effective ways to achieve the same end result."
      ],
      "metadata": {
        "id": "WDM6_UlMU0-J"
      }
    },
    {
      "cell_type": "markdown",
      "source": [
        "**Question-12)** What is method overriding in OOP?\n",
        "\n",
        "**Answer-12)**\n",
        "Method overriding is a fundamental concept in Object-Oriented Programming (OOP) that allows a subclass to provide a specific implementation of a method that is already defined in its superclass. When an object of the subclass calls this method, the overridden method in the subclass is executed instead of the one in the superclass.\n",
        "\n",
        "**Key Principles of Method Overriding**\n",
        "\n",
        "1. Inheritance: Method overriding requires an \"is-a\" relationship, meaning a subclass must inherit from a superclass.\n",
        "\n",
        "2. Same Method Signature: The method in the subclass must have the same name and the same number of parameters as the method in the superclass.\n",
        "\n",
        "3. Polymorphism: Method overriding is a core aspect of polymorphism, where a single interface can be used to represent different underlying forms (in this case, different method implementations).\n",
        "\n",
        "**How It Works**\n",
        "\n",
        "1. Superclass Method: A class (the superclass) defines a method, say greet().\n",
        "\n",
        "2. Subclass Method: Another class (the subclass) inherits from the superclass and defines its own version of the greet() method.\n",
        "\n",
        "3. Method Call: When an object of the subclass calls greet(), Python's method resolution order (MRO) checks the subclass first. Since a greet() method exists there, it is executed. If the method were not found in the subclass, Python would then look for it in the superclass.\n",
        "\n",
        "Example\n",
        "Consider a superclass Animal with a method speak(). A subclass Dog can override this method to provide a more specific behavior."
      ],
      "metadata": {
        "id": "txZOdH_EVDWY"
      }
    },
    {
      "cell_type": "code",
      "source": [
        "class Animal:\n",
        "    def speak(self):\n",
        "        print(\"The animal makes a sound.\")\n",
        "\n",
        "class Dog(Animal):\n",
        "    def speak(self):\n",
        "        print(\"The dog barks.\")\n",
        "\n",
        "class Cat(Animal):\n",
        "    def speak(self):\n",
        "        print(\"The cat meows.\")\n",
        "\n",
        "# Create objects\n",
        "animal = Animal()\n",
        "dog = Dog()\n",
        "cat = Cat()\n",
        "\n",
        "# Call the speak() method\n",
        "animal.speak()  # Output: The animal makes a sound.\n",
        "dog.speak()     # Output: The dog barks.\n",
        "cat.speak()     # Output: The cat meows."
      ],
      "metadata": {
        "colab": {
          "base_uri": "https://localhost:8080/"
        },
        "id": "1vDhtg3TXCMP",
        "outputId": "e2797a02-742b-4802-d4af-962be63e75e5"
      },
      "execution_count": null,
      "outputs": [
        {
          "output_type": "stream",
          "name": "stdout",
          "text": [
            "The animal makes a sound.\n",
            "The dog barks.\n",
            "The cat meows.\n"
          ]
        }
      ]
    },
    {
      "cell_type": "markdown",
      "source": [
        "In this example:\n",
        "\n",
        "The Animal class has a generic speak() method.\n",
        "\n",
        "The Dog and Cat classes override the speak() method to provide their own unique implementation.\n",
        "\n",
        "When dog.speak() is called, the speak() method from the Dog class is executed, not the one from the Animal class.\n",
        "\n",
        "Using super()\n",
        "\n",
        "Sometimes, a subclass might want to extend the functionality of the superclass's method rather than completely replace it. This is where the super() function comes in handy. It allows you to call the parent class's method from within the overridden method."
      ],
      "metadata": {
        "id": "DmPmmPfTYP9-"
      }
    },
    {
      "cell_type": "code",
      "source": [
        "class Car:\n",
        "    def __init__(self, brand):\n",
        "        self.brand = brand\n",
        "\n",
        "    def show_brand(self):\n",
        "        print(f\"I am a {self.brand} car.\")\n",
        "\n",
        "class ElectricCar(Car):\n",
        "    def __init__(self, brand, battery_size):\n",
        "        # Call the superclass's __init__ method\n",
        "        super().__init__(brand)\n",
        "        self.battery_size = battery_size\n",
        "\n",
        "    def show_brand(self):\n",
        "        # Call the superclass's show_brand method\n",
        "        super().show_brand()\n",
        "        print(f\"My battery size is {self.battery_size} kWh.\")\n",
        "\n",
        "# Create an object of the subclass\n",
        "electric_car = ElectricCar(\"Tesla\", 100)\n",
        "\n",
        "# Call the overridden method\n",
        "electric_car.show_brand()"
      ],
      "metadata": {
        "colab": {
          "base_uri": "https://localhost:8080/"
        },
        "id": "mePCOjr9YL84",
        "outputId": "2689ccb5-1399-47cc-b4fe-28861b902b2d"
      },
      "execution_count": null,
      "outputs": [
        {
          "output_type": "stream",
          "name": "stdout",
          "text": [
            "I am a Tesla car.\n",
            "My battery size is 100 kWh.\n"
          ]
        }
      ]
    },
    {
      "cell_type": "markdown",
      "source": [
        "In this case, the ElectricCar's show_brand() method first calls the show_brand() method from the Car class using super(), and then adds its own specific print statement.\n",
        "\n",
        "**Summary**\n",
        "\n",
        "Method overriding is a powerful feature in Python OOP that:\n",
        "\n",
        "Enables polymorphism.\n",
        "\n",
        "Allows subclasses to provide specialized implementations of methods.\n",
        "\n",
        "Can be used with the super() function to extend the parent class's functionality."
      ],
      "metadata": {
        "id": "RpHb7xpfYorB"
      }
    },
    {
      "cell_type": "markdown",
      "source": [
        "**Question-13)** What is a property decorator in Python?\n",
        "\n",
        "**Answer-13)** In Python, the @property decorator is a built-in decorator that provides a \"Pythonic\" way to manage and control access to class attributes. It allows you to define methods that can be accessed like attributes, without the need to call them with parentheses.\n",
        "\n",
        "The primary purpose of @property is to enforce encapsulation, a core principle of Object-Oriented Programming (OOP), by providing a clean and controlled interface for interacting with an object's internal state. It simplifies the use of getter and setter methods.\n",
        "\n",
        "How it Works\n",
        "A property is created by decorating a method with @property. This method, known as the getter, is responsible for retrieving the value of the attribute.\n",
        "\n",
        "You can then define methods for setting and deleting the property's value by using the decorators @<property_name>.setter and @<property_name>.deleter, respectively.\n",
        "\n",
        "Example"
      ],
      "metadata": {
        "id": "BY8RFU-2Y1Hf"
      }
    },
    {
      "cell_type": "code",
      "source": [
        "class Circle:\n",
        "    def __init__(self, radius):\n",
        "        self._radius = radius\n",
        "\n",
        "    @property\n",
        "    def radius(self):\n",
        "        \"\"\"Getter for the radius.\"\"\"\n",
        "        return self._radius\n",
        "\n",
        "    @radius.setter\n",
        "    def radius(self, value):\n",
        "        \"\"\"Setter for the radius with validation.\"\"\"\n",
        "        if value < 0:\n",
        "            raise ValueError(\"Radius cannot be negative\")\n",
        "        self._radius = value\n",
        "\n",
        "# Create an object\n",
        "c = Circle(5)\n",
        "\n",
        "# Access the property like an attribute (calls the getter)\n",
        "print(c.radius)  # Output: 5\n",
        "\n",
        "# Set the property like an attribute (calls the setter)\n",
        "c.radius = 10\n",
        "print(c.radius)  # Output: 10\n",
        "\n",
        "# The setter method validates the input\n",
        "try:\n",
        "    c.radius = -1\n",
        "except ValueError as e:\n",
        "    print(e)  # Output: Radius cannot be negative"
      ],
      "metadata": {
        "colab": {
          "base_uri": "https://localhost:8080/"
        },
        "id": "gxXgnJASYgGJ",
        "outputId": "f0140dfc-b086-47ac-a913-6a1939b5e21e"
      },
      "execution_count": null,
      "outputs": [
        {
          "output_type": "stream",
          "name": "stdout",
          "text": [
            "5\n",
            "10\n",
            "Radius cannot be negative\n"
          ]
        }
      ]
    },
    {
      "cell_type": "markdown",
      "source": [
        "In this example:\n",
        "\n",
        "The @property decorator turns the radius method into a getter. When you access c.radius, this method is automatically called.\n",
        "\n",
        "The @radius.setter decorator defines a setter method. When you assign a new value to c.radius (e.g., c.radius = 10), this method is automatically called, allowing you to include validation logic.\n",
        "\n",
        "**We Use the @property Decorator for the following reason:-**\n",
        "\n",
        "1. Readability and Cleanliness: It allows you to use a simpler, more direct syntax (object.attribute) to access and modify data, making the code more readable and intuitive. You don't have to remember to call get_ and set_ methods.\n",
        "\n",
        "2. Encapsulation: It lets you control how an attribute is accessed and modified. You can add logic for validation, logging, or other operations \"behind the scenes\" without changing the public interface of the class.\n",
        "\n",
        "3. Flexibility: You can start with a simple public attribute and, later, convert it to a property with validation or other logic without changing how the attribute is used in the rest of your code. This is great for refactoring.\n",
        "\n",
        "4. Computed Properties: The getter can be used to return a computed value based on other attributes, like calculating the area of a circle on the fly, without storing it as a separate attribute.\n",
        "\n",
        "In short, the @property decorator is a powerful tool for writing clean, flexible, and robust Python classes by allowing you to manage attributes in a controlled and \"Pythonic\" manner."
      ],
      "metadata": {
        "id": "OyfYaV4caLE_"
      }
    },
    {
      "cell_type": "markdown",
      "source": [
        "**Question-14)** Why is polymorphism important in OOP?\n",
        "\n",
        "**Answer-14)**\n",
        "Polymorphism is important in Object-Oriented Programming (OOP) in Python because it allows different classes to define methods with the same name, and lets you use those objects interchangeably, making your code flexible, extensible, and maintainable.\n",
        "\n",
        " Why Polymorphism is Important in Python OOP\n",
        "1. Code Flexibility and Generalization\n",
        "You can write code that works with objects of different classes, as long as they implement a common method interface."
      ],
      "metadata": {
        "id": "6QKi7MRkbGmU"
      }
    },
    {
      "cell_type": "code",
      "source": [
        "class Dog:\n",
        "    def speak(self):\n",
        "        return \"Bark\"\n",
        "\n",
        "class Cat:\n",
        "    def speak(self):\n",
        "        return \"Meow\"\n",
        "\n",
        "def animal_sound(animal):\n",
        "    print(animal.speak())  # No need to know the actual type\n",
        "\n",
        "animal_sound(Dog())  # Output: Bark\n",
        "animal_sound(Cat())  # Output: Meow"
      ],
      "metadata": {
        "colab": {
          "base_uri": "https://localhost:8080/"
        },
        "id": "GDPVbCEBZ5Xy",
        "outputId": "d0677bf9-998c-4700-c361-88ce54d56506"
      },
      "execution_count": null,
      "outputs": [
        {
          "output_type": "stream",
          "name": "stdout",
          "text": [
            "Bark\n",
            "Meow\n"
          ]
        }
      ]
    },
    {
      "cell_type": "markdown",
      "source": [
        "In the above code ,this works because both Dog and Cat have a speak() method—even though they are different classes.\n",
        "\n",
        "\n",
        "\n",
        "2. Supports Extensibility\n",
        "You can add new classes without changing existing code."
      ],
      "metadata": {
        "id": "EsgEBicqdAPu"
      }
    },
    {
      "cell_type": "code",
      "source": [
        "class Cow:\n",
        "    def speak(self):\n",
        "        return \"Moo\"\n",
        "\n",
        "# Existing function still works\n",
        "animal_sound(Cow())  # Output: Moo"
      ],
      "metadata": {
        "colab": {
          "base_uri": "https://localhost:8080/"
        },
        "id": "bsqppWToc_jv",
        "outputId": "4c85affd-c572-475a-aa37-f1d26bc67473"
      },
      "execution_count": null,
      "outputs": [
        {
          "output_type": "stream",
          "name": "stdout",
          "text": [
            "Moo\n"
          ]
        }
      ]
    },
    {
      "cell_type": "markdown",
      "source": [
        "3. Enables Runtime Polymorphism\n",
        "At runtime, Python decides which method to call based on the object type—this makes the program dynamic and adaptable.\n",
        "\n",
        "4. Follows \"Open/Closed Principle\"\n",
        "Polymorphism helps follow this key OOP principle:\n",
        "\n",
        "  a)Open for extension\n",
        "\n",
        "  b)Closed for modification\n",
        "\n",
        "Your functions don't need to change when you add new behaviors.\n",
        "\n",
        "5. Improves Code Readability & Maintainability\n",
        "You avoid:\n",
        "\n",
        "  a)Duplicated logic\n",
        "\n",
        "  b)Complex if-else or type() checks\n",
        "\n",
        "  c)Hard-coded class dependencies\n",
        "\n",
        "\n",
        "**In Simple Words:**\n",
        "\n",
        "Polymorphism lets you write one function that works with many kinds of objects—as long as they follow the same interface (method names).\n",
        "\n",
        "**Summary:**\n",
        "\n",
        "It have properties of-\n",
        "\n",
        "1. Flexibility:-\tOne function handles many object types\n",
        "2. Extensibility:-\tAdd new classes without rewriting code\n",
        "3. Maintainability:-\tCleaner, easier-to-update code\n",
        "4. Follows OOP principles:- \tLike abstraction, encapsulation, and reuse"
      ],
      "metadata": {
        "id": "9sGZ5ViTdXAh"
      }
    },
    {
      "cell_type": "markdown",
      "source": [
        "**Question-15)** What is an abstract class in Python?\n",
        "\n",
        "**Question-15)** An abstract class in Python is a class that cannot be directly instantiated. It acts as a blueprint, defining a common interface and a set of methods that any inheriting subclass must implement. This mechanism, facilitated by Python's abc module, is used to enforce a consistent structure and behavior across related classes, promoting design clarity and preventing errors.\n",
        "\n",
        "To create an abstract class, you import ABC and abstractmethod from the abc module. The class itself must inherit from ABC, and any methods you want to enforce are decorated with @abstractmethod.\n",
        "\n",
        "Consider a Vehicle abstract class:"
      ],
      "metadata": {
        "id": "Zmt3gfY5ekzE"
      }
    },
    {
      "cell_type": "code",
      "source": [
        "from abc import ABC, abstractmethod\n",
        "\n",
        "class Vehicle(ABC):\n",
        "    @abstractmethod\n",
        "    def start_engine(self):\n",
        "        pass\n",
        "\n",
        "class Car(Vehicle):\n",
        "    def start_engine(self):\n",
        "        print(\"Starting car engine...\")\n",
        "\n",
        "# This is a valid subclass\n",
        "my_car = Car()\n",
        "my_car.start_engine()  # Output: Starting car engine...\n",
        "\n",
        "# This will raise an error because 'start_engine' is not implemented\n",
        "# class Motorcycle(Vehicle):\n",
        "#     pass\n",
        "# my_motorcycle = Motorcycle()"
      ],
      "metadata": {
        "colab": {
          "base_uri": "https://localhost:8080/"
        },
        "id": "5yLhRHZkdV-y",
        "outputId": "35986937-9e28-46f6-fae7-1aa93dcb59a4"
      },
      "execution_count": null,
      "outputs": [
        {
          "output_type": "stream",
          "name": "stdout",
          "text": [
            "Starting car engine...\n"
          ]
        }
      ]
    },
    {
      "cell_type": "markdown",
      "source": [
        "Here, Vehicle mandates that any subclass must have a start_engine method. The Car class successfully implements this, making it a \"concrete\" class that can be instantiated. However, a Motorcycle class that inherits from Vehicle but doesn't implement start_engine would cause a TypeError, enforcing the contract set by the abstract class."
      ],
      "metadata": {
        "id": "zn96yTKYgGPS"
      }
    },
    {
      "cell_type": "markdown",
      "source": [
        "**Question16)** What are the advantages of OOP?\n",
        "\n",
        "**Answer-16)**\n",
        "\n",
        "Object-Oriented Programming (OOP) in Python offers several powerful advantages that help you write clean, organized, and maintainable code.\n",
        "\n",
        "**Advantages of OOP in Python**\n",
        "\n",
        "1. Modularity\n",
        "Code is organized into classes and objects.\n",
        "\n",
        "Each class handles a specific part of the functionality.\n",
        "\n",
        "Example: You can separate a User class from a Product class in an e-commerce app.\n",
        "\n",
        "\n",
        "2. Code Reusability\n",
        "Using inheritance, you can create new classes that reuse, extend, or modify the behavior of existing ones.\n",
        "\n",
        "Example:"
      ],
      "metadata": {
        "id": "5cSKxloKgm5N"
      }
    },
    {
      "cell_type": "code",
      "source": [
        "class Animal:\n",
        "    def eat(self):\n",
        "        print(\"Eating\")\n",
        "\n",
        "class Dog(Animal):\n",
        "    pass\n",
        "\n",
        "d = Dog()\n",
        "d.eat()  # Inherited from Animal"
      ],
      "metadata": {
        "colab": {
          "base_uri": "https://localhost:8080/"
        },
        "id": "pI36PMIahFMh",
        "outputId": "bb362b19-b39e-4a4d-b774-676693b5a114"
      },
      "execution_count": null,
      "outputs": [
        {
          "output_type": "stream",
          "name": "stdout",
          "text": [
            "Eating\n"
          ]
        }
      ]
    },
    {
      "cell_type": "markdown",
      "source": [
        "3. Encapsulation\n",
        "OOP allows hiding internal details of an object and exposing only what's necessary.\n",
        "\n",
        "Keeps data safe and secure by restricting direct access using private variables and properties.\n",
        "\n",
        "Example: Use _variable or @property to control access.\n",
        "\n",
        "4. Polymorphism\n",
        " a)Objects of different classes can be treated through a common interface.\n",
        " b)Enables flexibility and simplifies code.\n",
        "\n",
        "5. Abstraction\n",
        "You can define abstract classes and hide complex details, only exposing essential features.\n",
        "\n",
        "Example: Define a Vehicle abstract class with a start() method that all specific vehicles must implement.\n",
        "\n",
        "6. Maintainability and Scalability\n",
        " a)Code is easier to maintain, debug, and update.\n",
        " b)Well-structured OOP code can grow in complexity without becoming chaotic.\n",
        "\n",
        "7. Real-world Modeling\n",
        "OOP lets you model real-world entities naturally using classes and objects (like Car, BankAccount, Employee, etc.).\n",
        "\n",
        "8. Ease of Collaboration\n",
        "In large projects, OOP enables team members to work on different classes/modules without interfering with each other’s work.\n",
        "\n",
        "\n",
        "**Summary:-**\n",
        "\n",
        "It has many advantages like:-\n",
        "\n",
        "1. Modularity:-\tOrganized, class-based structure\n",
        "2. Reusability:-\tAvoids redundant code through inheritance\n",
        "3. Encapsulation:-\tProtects internal state of objects\n",
        "4. Polymorphism:-\tFlexible and general code\n",
        "5. Abstraction:-\tSimplifies complex systems\n",
        "6. Maintainability:-\tEasier updates and debugging\n",
        "7. Real-world design:-\tMore intuitive code structure\n",
        "8. Collaboration\tBetter team development"
      ],
      "metadata": {
        "id": "VJKLqpFqi9Sw"
      }
    },
    {
      "cell_type": "markdown",
      "source": [
        "**Question-17)**What is the difference between a class variable and an instance variable?\n",
        "\n",
        "**Answer-17)**\n",
        "In Python, the difference between a class variable and an instance variable lies in how they are stored and shared among objects.\n",
        "\n",
        "\n",
        "1. Class Variable\n",
        " a)Shared by all instances of a class.\n",
        "\n",
        " b)Defined inside the class, but outside any method.\n",
        "\n",
        " c)Changing it from one instance affects all others (unless overridden)."
      ],
      "metadata": {
        "id": "7Q1wxIOolQin"
      }
    },
    {
      "cell_type": "code",
      "source": [
        "class Dog:\n",
        "    species = \"Canis familiaris\"  # Class variable\n",
        "\n",
        "    def __init__(self, name):\n",
        "        self.name = name  # Instance variable\n",
        "\n",
        "dog1 = Dog(\"Buddy\")\n",
        "dog2 = Dog(\"Max\")\n",
        "\n",
        "print(dog1.species)  # Output: Canis familiaris\n",
        "print(dog2.species)  # Output: Canis familiaris\n",
        "\n",
        "Dog.species = \"Wolf\"  # Change at class level\n",
        "print(dog1.species)  # Output: Wolf"
      ],
      "metadata": {
        "colab": {
          "base_uri": "https://localhost:8080/"
        },
        "id": "ZWd55drTjY-e",
        "outputId": "08fc8286-adcf-4141-e626-19a6c1a868f6"
      },
      "execution_count": null,
      "outputs": [
        {
          "output_type": "stream",
          "name": "stdout",
          "text": [
            "Canis familiaris\n",
            "Canis familiaris\n",
            "Wolf\n"
          ]
        }
      ]
    },
    {
      "cell_type": "markdown",
      "source": [
        "2. Instance Variable\n",
        " a)Unique to each object.\n",
        "\n",
        " b)Defined inside the constructor (__init__) or other instance methods using self.\n",
        "\n",
        " c)Changing it only affects that particular object."
      ],
      "metadata": {
        "id": "RoAO1OyPnIow"
      }
    },
    {
      "cell_type": "code",
      "source": [
        "dog1.name = \"Charlie\"\n",
        "print(dog1.name)  # Output: Charlie\n",
        "print(dog2.name)  # Output: Max  (dog2 is unaffected)"
      ],
      "metadata": {
        "colab": {
          "base_uri": "https://localhost:8080/"
        },
        "id": "ev4ZOj8CnG1T",
        "outputId": "09903477-31ae-4c22-f0f1-943ea29576b2"
      },
      "execution_count": null,
      "outputs": [
        {
          "output_type": "stream",
          "name": "stdout",
          "text": [
            "Charlie\n",
            "Max\n"
          ]
        }
      ]
    },
    {
      "cell_type": "markdown",
      "source": [
        "In Python, **class variables** and **instance variables** differ in their behavior and purpose. A **class variable** is shared across **all instances** of the class. It is defined **inside the class but outside any method**, and it can be accessed using either the class name (e.g., `ClassName.variable`) or through an instance (`self.variable`). These variables are stored in the **class's namespace** and are useful for storing **data common to all objects** of that class.\n",
        "\n",
        "On the other hand, an **instance variable** is **specific to each individual object**. It is defined **inside methods**, typically within the `__init__` constructor, using the `self` keyword (e.g., `self.variable`). Instance variables are stored in the object's own **`__dict__`**, meaning each object has its own separate copy. These are ideal for storing **unique data for each object**, such as a name, ID, or other characteristics that vary between instances.\n",
        "\n",
        "In summary, class variables provide **shared, consistent values**, while instance variables provide **custom, object-specific values**.\n",
        "\n",
        "\n",
        "\n",
        "Analogy:\n",
        "1. Class variable: Like a school name shared by all students.\n",
        "\n",
        "2. Instance variable: Like the student's own name—unique to each student.\n"
      ],
      "metadata": {
        "id": "yKmDbDLrnUAn"
      }
    },
    {
      "cell_type": "markdown",
      "source": [
        "**Question-18)** What is multiple inheritance in Python?\n",
        "\n",
        "**Answer-18)** Multiple inheritance is a feature in Object-Oriented Programming (OOP) where a class can inherit attributes and methods from more than one parent class. This allows a child class to combine the functionality of multiple existing classes, creating a single, more specialized class.\n",
        "\n",
        "In Python, you define a class with multiple parent classes by listing them in the class definition, separated by commas.\n",
        "\n",
        "Example\n",
        "Imagine you want to create a Bat class. A bat is both a Mammal and a WingedAnimal. You can model this relationship using multiple inheritance."
      ],
      "metadata": {
        "id": "1Kj_BRxDn3or"
      }
    },
    {
      "cell_type": "code",
      "source": [
        "class Mammal:\n",
        "    def give_birth(self):\n",
        "        print(\"This animal gives live birth.\")\n",
        "\n",
        "class WingedAnimal:\n",
        "    def flap_wings(self):\n",
        "        print(\"This animal can fly.\")\n",
        "\n",
        "class Bat(Mammal, WingedAnimal):\n",
        "    def eat_insects(self):\n",
        "        print(\"The bat is eating insects.\")\n",
        "\n",
        "# Create an instance of the Bat class\n",
        "my_bat = Bat()\n",
        "\n",
        "# The bat object can access methods from all its parent classes\n",
        "my_bat.give_birth()  # Inherited from Mammal\n",
        "my_bat.flap_wings()  # Inherited from WingedAnimal\n",
        "my_bat.eat_insects() # Unique to the Bat class"
      ],
      "metadata": {
        "colab": {
          "base_uri": "https://localhost:8080/"
        },
        "id": "ih3aYMPaolLT",
        "outputId": "c307da95-ba1b-4b0c-dc29-ca926b381d76"
      },
      "execution_count": null,
      "outputs": [
        {
          "output_type": "stream",
          "name": "stdout",
          "text": [
            "This animal gives live birth.\n",
            "This animal can fly.\n",
            "The bat is eating insects.\n"
          ]
        }
      ]
    },
    {
      "cell_type": "markdown",
      "source": [
        "**The Diamond Problem and Method Resolution Order (MRO)**\n",
        "While powerful, multiple inheritance can introduce a potential ambiguity known as the \"diamond problem.\" This occurs when a class inherits from two parent classes that both inherit from a common grandparent class, and a method is overridden in the parent classes.\n",
        "\n",
        "When an object of the child class calls this method, Python needs a way to determine which version to use. It resolves this ambiguity using the Method Resolution Order (MRO).\n",
        "\n",
        "The MRO is the order in which Python searches for a method in a class hierarchy. Python uses a sophisticated algorithm called C3 Linearization to determine this order. You can inspect a class's MRO using the .__mro__ attribute or the mro() method.\n",
        "\n",
        "The MRO typically prioritizes classes from left to right in the inheritance list. For example, in class Child(Parent1, Parent2):, Python will look for a method in Child first, then Parent1, then Parent2, and so on. Understanding the MRO is crucial for avoiding unexpected behavior in complex multiple inheritance scenarios."
      ],
      "metadata": {
        "id": "nhS2zGb5o4iI"
      }
    },
    {
      "cell_type": "markdown",
      "source": [
        "**Question-19)** Explain the purpose of ‘’__str__’ and ‘__repr__’ ‘ methods in  Python.\n",
        "\n",
        "**Answer-19)** In Python, the __str__ and __repr__ methods are special (dunder) methods used to define how objects are represented as strings. They make your objects easier to read, debug, and print.\n",
        "\n",
        " __str__ — For Readable Output\n",
        "\n",
        " a)Defines the user-friendly string representation of an object.\n",
        "\n",
        " b)Used when you call print(object) or str(object).\n",
        "\n",
        " c)Should return a string that is easy to read and understand."
      ],
      "metadata": {
        "id": "tTTnlwuqrDON"
      }
    },
    {
      "cell_type": "code",
      "source": [
        "class Person:\n",
        "    def __init__(self, name):\n",
        "        self.name = name\n",
        "\n",
        "    def __str__(self):\n",
        "        return f\"Person named {self.name}\"\n",
        "\n",
        "p = Person(\"Alice\")\n",
        "print(p)         # Output: Person named Alice\n",
        "str(p)           # Also calls __str__()"
      ],
      "metadata": {
        "colab": {
          "base_uri": "https://localhost:8080/",
          "height": 53
        },
        "id": "x3hHKaURqwYL",
        "outputId": "a27879ee-ad23-4ed5-c7d8-3073da69fac7"
      },
      "execution_count": null,
      "outputs": [
        {
          "output_type": "stream",
          "name": "stdout",
          "text": [
            "Person named Alice\n"
          ]
        },
        {
          "output_type": "execute_result",
          "data": {
            "text/plain": [
              "'Person named Alice'"
            ],
            "application/vnd.google.colaboratory.intrinsic+json": {
              "type": "string"
            }
          },
          "metadata": {},
          "execution_count": 36
        }
      ]
    },
    {
      "cell_type": "markdown",
      "source": [
        "__repr__ — For Debugging and Developers\n",
        "\n",
        " a)Defines the official/internal string representation of an object.\n",
        "\n",
        " b)Used by repr(object) and in interactive mode or debugging.\n",
        "\n",
        " c)Should return a string that looks like valid Python code, if possible.\n"
      ],
      "metadata": {
        "id": "vKgI9-afsDe9"
      }
    },
    {
      "cell_type": "code",
      "source": [
        "class Person:\n",
        "    def __init__(self, name):\n",
        "        self.name = name\n",
        "\n",
        "    def __repr__(self):\n",
        "        return f\"Person('{self.name}')\"\n",
        "\n",
        "p = Person(\"Alice\")\n",
        "repr(p)         # Output: Person('Alice')"
      ],
      "metadata": {
        "colab": {
          "base_uri": "https://localhost:8080/",
          "height": 36
        },
        "id": "xroWjdkfr_Fz",
        "outputId": "736da29d-99e8-4cfb-81f0-eb9d93a72164"
      },
      "execution_count": null,
      "outputs": [
        {
          "output_type": "execute_result",
          "data": {
            "text/plain": [
              "\"Person('Alice')\""
            ],
            "application/vnd.google.colaboratory.intrinsic+json": {
              "type": "string"
            }
          },
          "metadata": {},
          "execution_count": 37
        }
      ]
    },
    {
      "cell_type": "markdown",
      "source": [
        "If __str__ is Missing:\n",
        "Python falls back to __repr__ when __str__ is not defined.\n",
        "\n",
        "\n",
        "\n",
        "1. Purpose:\n",
        "The __str__ method is meant to return a user-friendly string. It's designed to give a clean and readable description of the object, like something you'd want to show to the end user.\n",
        "\n",
        "The __repr__ method, on the other hand, is meant for developers and debugging. It returns a detailed, technical string that ideally shows how to recreate the object or gives enough info for debugging.\n",
        "\n",
        "2. Called by:\n",
        "The __str__ method is automatically called when you use the print() function or call str() on an object. It’s what you usually see when you print the object.\n",
        "\n",
        "The __repr__ method is called when you use the repr() function, or when you inspect an object in the Python console or debugger.\n",
        "\n",
        "3. Fallback Behavior:\n",
        "If you do not define __str__ in your class, Python will fall back to using __repr__ when you try to print the object.\n",
        "\n",
        "But if __repr__ is not defined, Python won’t fall back to __str__ — instead, it uses a default representation like <__main__.ClassName object at memory_location>.\n",
        "\n",
        "4. Format:\n",
        "The output of __str__ is meant to be easy to read, like a sentence or short label that makes sense to users.\n",
        "\n",
        "The output of __repr__ is typically more precise or formal, and should ideally look like a valid Python expression that could recreate the object.\n",
        "\n",
        "Analogy:\n",
        "\n",
        "__str__ is like a friendly name badge.\n",
        "\n",
        "__repr__ is like a technical ID card.\n",
        "\n",
        "In Summary:\n",
        "\n",
        "Think of __str__ as something you'd show to a user in the app, and __repr__ as something you'd look at while debugging or writing logs.\n"
      ],
      "metadata": {
        "id": "CEyt34dasSy3"
      }
    },
    {
      "cell_type": "markdown",
      "source": [
        "**Question-20)** What is the significance of the ‘super()’ function in Python?\n",
        "\n",
        "**Answer-20)**\n",
        "\n",
        "The super() function is a powerful and essential tool in Python for managing class inheritance. Its significance lies in its ability to provide a clean and cooperative way for a subclass to interact with its parent classes.\n",
        "\n",
        "1. Extending, Not Replacing, Parent Class Functionality\n",
        "The primary use of super() is to call a method from a parent class that has been overridden in the child class. This allows you to extend the functionality of the parent's method rather than completely replacing it.\n",
        "\n",
        "Example: The __init__ constructor\n",
        "\n",
        "A common scenario is in the __init__ method. A child class often needs to add its own specific attributes while also ensuring that the parent class's attributes are properly initialized. Using super().__init__() allows you to do this efficiently."
      ],
      "metadata": {
        "id": "XBg9SVARtrV4"
      }
    },
    {
      "cell_type": "code",
      "source": [
        "class Animal:\n",
        "    def __init__(self, species):\n",
        "        self.species = species\n",
        "\n",
        "class Dog(Animal):\n",
        "    def __init__(self, species, name):\n",
        "        # Calls the __init__ of the parent (Animal) class\n",
        "        super().__init__(species)\n",
        "        self.name = name\n",
        "\n",
        "my_dog = Dog(\"Canine\", \"Buddy\")\n",
        "print(my_dog.species)  # Output: Canine\n",
        "print(my_dog.name)    # Output: Buddy"
      ],
      "metadata": {
        "colab": {
          "base_uri": "https://localhost:8080/"
        },
        "id": "4GIaI1JTsRoA",
        "outputId": "3ad99259-7d15-4a93-88c8-363a035e168a"
      },
      "execution_count": null,
      "outputs": [
        {
          "output_type": "stream",
          "name": "stdout",
          "text": [
            "Canine\n",
            "Buddy\n"
          ]
        }
      ]
    },
    {
      "cell_type": "markdown",
      "source": [
        "Without super(), you would have to manually call Animal.__init__(self, species), which is less flexible and harder to maintain.\n",
        "\n",
        "\n",
        "2. Handling Complex Inheritance Hierarchies\n",
        "super() is particularly vital in scenarios involving multiple inheritance, where a class inherits from several parent classes. It ensures that the Method Resolution Order (MRO) is followed correctly. The MRO is the order in which Python searches for a method in a class hierarchy.\n",
        "\n",
        "When super() is called, it dynamically determines the next class in the MRO and calls the appropriate method. This prevents the \"diamond problem\" and ensures that all parent classes in a cooperative inheritance chain are properly initialized.\n",
        "\n",
        "3. Promoting Code Maintainability and Flexibility\n",
        "By using super(), you avoid explicitly hardcoding the parent class's name. This makes your code more flexible. If you change the name of a parent class or restructure your class hierarchy, you don't have to modify every subclass that uses super(). The function will automatically adapt to the new MRO, making your code more robust and easier to refactor.\n",
        "\n",
        "In essence, super() is not just a shortcut; it's a fundamental mechanism that allows for cooperative and dynamic inheritance, leading to more organized, flexible, and maintainable object-oriented code."
      ],
      "metadata": {
        "id": "830RjW7yusmt"
      }
    },
    {
      "cell_type": "markdown",
      "source": [
        "**Question-21)** What is the significance of the __del__ method in Python?\n",
        "\n",
        "**Questrion-21)**\n",
        "\n",
        "The __del__ method in Python is called a destructor. It is a special method that runs automatically when an object is about to be deleted.\n",
        "\n",
        "It is useful in the following case:-\n",
        "we use __del__ to clean up resources before the object is destroyed — like:\n",
        "\n",
        " a)Closing a file\n",
        "\n",
        " b)Disconnecting from a database\n",
        "\n",
        " c)Releasing memory or network connections"
      ],
      "metadata": {
        "id": "bMg1AbzCu6Sf"
      }
    },
    {
      "cell_type": "code",
      "source": [
        "class FileHandler:\n",
        "    def __init__(self):\n",
        "        print(\"File opened\")\n",
        "\n",
        "    def __del__(self):\n",
        "        print(\"File closed\")\n",
        "\n",
        "f = FileHandler()\n",
        "del f  # Output: File closed"
      ],
      "metadata": {
        "colab": {
          "base_uri": "https://localhost:8080/"
        },
        "id": "mqHA1qDyunoP",
        "outputId": "bb0a8fe9-4003-4c3e-f26b-0ba85b5e85af"
      },
      "execution_count": null,
      "outputs": [
        {
          "output_type": "stream",
          "name": "stdout",
          "text": [
            "File opened\n",
            "File closed\n"
          ]
        }
      ]
    },
    {
      "cell_type": "markdown",
      "source": [
        "When the object f is deleted, __del__ is automatically called.\n",
        "\n",
        "\n",
        "Important to Remember:\n",
        "\n",
        " 1. We don’t control exactly when __del__ is called — Python decides.\n",
        " 2. For important cleanup, it's better to use with statements (context managers).\n",
        "\n",
        "Think of it like this:\n",
        "\n",
        "__del__ is like a cleanup crew that comes in when Python is done using an object — it makes sure everything is properly closed or cleaned up.\n",
        "\n",
        "\n",
        "\n"
      ],
      "metadata": {
        "id": "d6-uOuDcu5fq"
      }
    },
    {
      "cell_type": "markdown",
      "source": [
        "**Question-22)** What is the difference between @staticmethod and @classmethod in Python?\n",
        "\n",
        "**Answer-22)**\n",
        "The key difference between `@staticmethod` and `@classmethod` in Python lies in their access to the class and its instances.\n",
        "\n",
        "A **static method** is a method that belongs to the class but has no access to the class itself or any of its instances. Think of it as a regular function that is simply grouped within the class for organizational purposes. It doesn't receive `self` or `cls` as its first argument and can't modify the class's or the instance's state. It's best used for utility functions that logically belong to the class but don't need any of its data.\n",
        "\n",
        "A **class method**, on the other hand, is bound to the class itself, not the instance. Its first parameter is always `cls`, a reference to the class. This gives it the ability to access and modify class-level variables, which are shared by all instances. Class methods are most often used as alternative constructors to create new instances of the class in different ways, or for methods that need to operate on the class's state rather than an individual object's state."
      ],
      "metadata": {
        "id": "9m7Puc7pyPsW"
      }
    },
    {
      "cell_type": "markdown",
      "source": [
        "**Question-23)** How does polymorphism work in Python with inheritance?\n",
        "\n",
        "**Answer-23)**\n",
        "\n",
        "Polymorphism in Python, when combined with inheritance, allows you to write code that can work with objects of different classes that are related through a common base class. The core idea is that a method call behaves differently depending on the specific type of object it is called on.\n",
        "\n",
        "Here's how it works, broken down by key concepts:\n",
        "\n",
        "1. Method Overriding\n",
        "The foundation of polymorphism with inheritance is method overriding. This is where a subclass provides its own specific implementation of a method that is already defined in its superclass.\n",
        "\n",
        "Parent Class (Base Class): A base class defines a general method. For example, an Animal class might have a generic speak() method.\n",
        "\n",
        "Child Classes (Subclasses): Child classes inherit from the base class and override the speak() method to provide their unique behavior. A Dog class will make the speak() method print \"Woof!\", while a Cat class will make it print \"Meow!\".\n",
        "\n",
        "The method signature (name and parameters) must be the same in both the parent and child classes.\n",
        "\n",
        "2. The Shared Interface\n",
        "Even though each subclass has a different implementation of the speak() method, they all share the same public interface. This means that a function or a piece of code that expects an Animal object can call its speak() method without needing to know if the object is specifically a Dog or a Cat.\n",
        "\n",
        "3. Duck Typing\n",
        "Python's polymorphism is often referred to as \"duck typing.\" The principle is: \"If it walks like a duck and quacks like a duck, it's a duck.\" In programming terms, if an object has a certain method, you can call that method on it, regardless of its class type.\n",
        "\n",
        "This allows you to create code that is not dependent on the class hierarchy, but on the presence of specific methods.\n",
        "\n",
        "Example\n",
        "Let's put these concepts together with a concrete example."
      ],
      "metadata": {
        "id": "-gse-UMMzS29"
      }
    },
    {
      "cell_type": "code",
      "source": [
        "# The base class\n",
        "class Animal:\n",
        "    def speak(self):\n",
        "        print(\"The animal makes a generic sound.\")\n",
        "\n",
        "# Child class 1\n",
        "class Dog(Animal):\n",
        "    # Overrides the speak() method\n",
        "    def speak(self):\n",
        "        print(\"Woof! Woof!\")\n",
        "\n",
        "# Child class 2\n",
        "class Cat(Animal):\n",
        "    # Overrides the speak() method\n",
        "    def speak(self):\n",
        "        print(\"Meow!\")\n",
        "\n",
        "# A function that takes an object of any class that has a 'speak' method\n",
        "def make_the_animal_speak(animal):\n",
        "    animal.speak()\n",
        "\n",
        "# Create objects of different types\n",
        "my_dog = Dog()\n",
        "my_cat = Cat()\n",
        "my_animal = Animal()\n",
        "\n",
        "# The same function call behaves differently based on the object's type\n",
        "make_the_animal_speak(my_dog)     # Output: Woof! Woof!\n",
        "make_the_animal_speak(my_cat)     # Output: Meow!\n",
        "make_the_animal_speak(my_animal)  # Output: The animal makes a generic sound."
      ],
      "metadata": {
        "colab": {
          "base_uri": "https://localhost:8080/"
        },
        "id": "E6Seb1FpzPOG",
        "outputId": "ea84fcd3-aa01-4ac3-d233-b220bbb41f47"
      },
      "execution_count": null,
      "outputs": [
        {
          "output_type": "stream",
          "name": "stdout",
          "text": [
            "Woof! Woof!\n",
            "Meow!\n",
            "The animal makes a generic sound.\n"
          ]
        }
      ]
    },
    {
      "cell_type": "markdown",
      "source": [
        "In the above example, the make_the_animal_speak function is a polymorphic function. It doesn't care if the object passed to it is a Dog, a Cat, or an Animal. It simply knows that it can call the speak() method, and thanks to method overriding, the correct, specific version of the method is executed for each object.\n",
        "\n",
        "This leads to highly flexible and extensible code. You could create a new class like Cow with its own speak() method, and the make_the_animal_speak function would work on a Cow object without any changes. This is the power of polymorphism."
      ],
      "metadata": {
        "id": "m6tSbqC80V2h"
      }
    },
    {
      "cell_type": "markdown",
      "source": [
        "**Question-24)** What is method chaining in Python OOP?\n",
        "\n",
        "**Answer-24)**\n",
        "\n",
        "ethod chaining is a programming technique where you call multiple methods on an object in a single, sequential statement. It works by having each method return the object itself (return self), which allows the next method in the chain to be immediately called on the same object.\n",
        "\n",
        "This technique is used to create a more fluent and readable style of programming, especially when performing a series of operations on an object.\n",
        "\n",
        "How It Works\n",
        "For method chaining to be possible, each method in the chain must return the object it was called on.\n",
        "\n",
        "Without Method Chaining:\n",
        "You would typically perform a series of operations on an object by calling methods one after another on separate lines."
      ],
      "metadata": {
        "id": "5FMQEt6o0mHV"
      }
    },
    {
      "cell_type": "code",
      "source": [
        "class Calculator:\n",
        "    def __init__(self, value=0):\n",
        "        self.value = value\n",
        "\n",
        "    def add(self, num):\n",
        "        self.value += num\n",
        "\n",
        "    def multiply(self, num):\n",
        "        self.value *= num\n",
        "\n",
        "calc = Calculator(10)\n",
        "calc.add(5)\n",
        "calc.multiply(2)\n",
        "print(calc.value) # Output: 30"
      ],
      "metadata": {
        "colab": {
          "base_uri": "https://localhost:8080/"
        },
        "id": "ns2OkUJr0G2l",
        "outputId": "9f457dbe-2359-44bf-d141-4c99b9bd57ae"
      },
      "execution_count": null,
      "outputs": [
        {
          "output_type": "stream",
          "name": "stdout",
          "text": [
            "30\n"
          ]
        }
      ]
    },
    {
      "cell_type": "markdown",
      "source": [
        "With Method Chaining:\n",
        "You modify the methods to return self, which is a reference to the current object. This allows you to chain the calls."
      ],
      "metadata": {
        "id": "dFgDxfym1cs5"
      }
    },
    {
      "cell_type": "code",
      "source": [
        "class ChainableCalculator:\n",
        "    def __init__(self, value=0):\n",
        "        self.value = value\n",
        "\n",
        "    def add(self, num):\n",
        "        self.value += num\n",
        "        return self # Return the object itself\n",
        "\n",
        "    def multiply(self, num):\n",
        "        self.value *= num\n",
        "        return self # Return the object itself\n",
        "\n",
        "# Now you can chain the methods\n",
        "calc = ChainableCalculator(10)\n",
        "final_value = calc.add(5).multiply(2).value\n",
        "\n",
        "print(final_value) # Output: 30"
      ],
      "metadata": {
        "colab": {
          "base_uri": "https://localhost:8080/"
        },
        "id": "laIYoI-71lwr",
        "outputId": "aedf15d0-7f80-47ee-c684-f33e6d72191a"
      },
      "execution_count": null,
      "outputs": [
        {
          "output_type": "stream",
          "name": "stdout",
          "text": [
            "30\n"
          ]
        }
      ]
    },
    {
      "cell_type": "markdown",
      "source": [
        "In this example, calc.add(5) executes and returns the calc object. The .multiply(2) method is then called on that returned object, which is still calc.\n",
        "\n",
        "**Key Advantages**\n",
        "\n",
        "1. Improved Readability: Method chaining often leads to more concise and readable code, as it reflects a logical sequence of operations. This \"fluent interface\" can make the code's intent clearer.\n",
        "\n",
        "2. Concise Code: It reduces the need for temporary variables and multiple lines of code, making the program more compact.\n",
        "\n",
        "3. Easier to Follow: It allows developers to quickly scan a line of code and understand the entire sequence of operations being performed on an object."
      ],
      "metadata": {
        "id": "2C9XLjKb1nzv"
      }
    },
    {
      "cell_type": "markdown",
      "source": [
        "**Question-25)** What is the purpose of the __call__ method in Python?\n",
        "\n",
        "**Answer-25)**\n",
        "\n",
        "The __call__ method in Python is a special \"dunder\" method that makes an instance of a class callable, meaning you can treat the object like a function and call it using parentheses ().\n",
        "\n",
        "The Core Purpose: Making Objects Behave Like Functions\n",
        "The main significance of __call__ is that it allows an object to have a \"main\" behavior, which is invoked when the object is called. This gives you the best of both worlds: you can have an object that maintains state (has attributes) while also providing a simple, function-like interface.\n",
        "\n",
        "Here's how it works:"
      ],
      "metadata": {
        "id": "NC71KcJH16hZ"
      }
    },
    {
      "cell_type": "code",
      "source": [
        "class Multiplier:\n",
        "    def __init__(self, factor):\n",
        "        # The object stores a state (the multiplication factor)\n",
        "        self.factor = factor\n",
        "\n",
        "    def __call__(self, number):\n",
        "        # This method is called when the object is invoked like a function\n",
        "        return self.factor * number\n",
        "\n",
        "# Create an instance of the class\n",
        "double_it = Multiplier(2)\n",
        "triple_it = Multiplier(3)\n",
        "\n",
        "# Now, you can call the objects like functions\n",
        "print(double_it(10))  # Output: 20\n",
        "print(triple_it(10))  # Output: 30"
      ],
      "metadata": {
        "colab": {
          "base_uri": "https://localhost:8080/"
        },
        "id": "K2Y1x2EG2iVs",
        "outputId": "aa0bc740-b45f-4ac0-dfda-d37ab655087b"
      },
      "execution_count": null,
      "outputs": [
        {
          "output_type": "stream",
          "name": "stdout",
          "text": [
            "20\n",
            "30\n"
          ]
        }
      ]
    },
    {
      "cell_type": "markdown",
      "source": [
        "In this example, double_it and triple_it are not functions; they are instances of the Multiplier class. However, because the __call__ method is defined, the interpreter allows you to call them with parentheses, and the code inside __call__ is executed.\n",
        "\n",
        "**Common Use Cases**\n",
        "\n",
        "The __call__ method is useful in several scenarios:\n",
        "\n",
        "1. Stateful Functions: When you need a function that remembers or holds some state between calls. This is a powerful alternative to using global variables or closures. The object's attributes store the state, and __call__ performs the action.\n",
        "\n",
        "2. Decorators: The __call__ method is a key component in creating class-based decorators. A decorator class's __init__ method can store the decorator's parameters, and the __call__ method can then wrap the function it is decorating.\n",
        "\n",
        "3. Function Factories: When you need to generate functions with slightly different behaviors. A class can act as a factory, and its instances (created with __init__) become the customized functions.\n",
        "\n",
        "4. Simulating APIs: It can be used to create a clean and intuitive API, where a class instance represents a service, and calling the instance performs its primary action. For example, a Logger object could be called directly to log a message.\n",
        "\n",
        "In essence, __call__ is a tool for creating callable objects. It allows you to encapsulate data and behavior within a class and then use that object with the simple, familiar syntax of a function call."
      ],
      "metadata": {
        "id": "_P7Bd6DZ2oSj"
      }
    },
    {
      "cell_type": "markdown",
      "source": [
        "## Practical Questions and their Answers"
      ],
      "metadata": {
        "id": "hTPCWzEB0k_N"
      }
    },
    {
      "cell_type": "markdown",
      "source": [
        "**Question-1)** Create a parent class Animal with a method speak() that prints a generic message. Create a child class Dog that overrides the speak() method to print \"Bark!\"."
      ],
      "metadata": {
        "id": "gbjEAMyf4DgT"
      }
    },
    {
      "cell_type": "code",
      "source": [
        "#Answer-1)\n",
        "\n",
        "# Define the parent class\n",
        "class Animal:\n",
        "    def speak(self):\n",
        "        print(\"The animal makes a sound.\")\n",
        "\n",
        "# Define the child class\n",
        "class Dog(Animal):\n",
        "    def speak(self):\n",
        "        print(\"Bark!\")\n",
        "\n",
        "# Create instances and call the speak() method\n",
        "animal = Animal()\n",
        "animal.speak()  # Output: The animal makes a sound.\n",
        "\n",
        "dog = Dog()\n",
        "dog.speak()     # Output: Bark!"
      ],
      "metadata": {
        "colab": {
          "base_uri": "https://localhost:8080/"
        },
        "id": "jYC42iEt3xR5",
        "outputId": "c463c1fc-14b8-488d-86c2-8e8f0ef7430a"
      },
      "execution_count": null,
      "outputs": [
        {
          "output_type": "stream",
          "name": "stdout",
          "text": [
            "The animal makes a sound.\n",
            "Bark!\n"
          ]
        }
      ]
    },
    {
      "cell_type": "markdown",
      "source": [
        "**Question-2)** Write a program to create an abstract class Shape with a method area(). Derive classes Circle and Rectangle from it and implement the area() method in both."
      ],
      "metadata": {
        "id": "mw3lMTnj4kiS"
      }
    },
    {
      "cell_type": "code",
      "source": [
        "#Answer-2)\n",
        "\n",
        "from abc import ABC, abstractmethod\n",
        "import math\n",
        "\n",
        "# Define abstract base class\n",
        "class Shape(ABC):\n",
        "    @abstractmethod\n",
        "    def area(self):\n",
        "        pass\n",
        "\n",
        "# Derived class for Circle\n",
        "class Circle(Shape):\n",
        "    def __init__(self, radius):\n",
        "        self.radius = radius\n",
        "\n",
        "    def area(self):\n",
        "        return math.pi * self.radius ** 2\n",
        "\n",
        "# Derived class for Rectangle\n",
        "class Rectangle(Shape):\n",
        "    def __init__(self, width, height):\n",
        "        self.width = width\n",
        "        self.height = height\n",
        "\n",
        "    def area(self):\n",
        "        return self.width * self.height\n",
        "\n",
        "# Create instances and print areas\n",
        "circle = Circle(5)\n",
        "rectangle = Rectangle(4, 6)\n",
        "\n",
        "print(f\"Area of Circle: {circle.area():.2f}\")\n",
        "print(f\"Area of Rectangle: {rectangle.area()}\")\n"
      ],
      "metadata": {
        "colab": {
          "base_uri": "https://localhost:8080/"
        },
        "id": "hGvCixVu4Ma3",
        "outputId": "4abe4d9b-c84b-429f-98e7-89915709c8ed"
      },
      "execution_count": null,
      "outputs": [
        {
          "output_type": "stream",
          "name": "stdout",
          "text": [
            "Area of Circle: 78.54\n",
            "Area of Rectangle: 24\n"
          ]
        }
      ]
    },
    {
      "cell_type": "markdown",
      "source": [
        "**Question-3)** . Implement a multi-level inheritance scenario where a class Vehicle has an attribute type. Derive a class Car and further derive a class ElectricCar that adds a battery attribute."
      ],
      "metadata": {
        "id": "D4G-B6UC5P_g"
      }
    },
    {
      "cell_type": "code",
      "source": [
        "#Answer-3)\n",
        "\n",
        "# Base class\n",
        "class Vehicle:\n",
        "    def __init__(self, vehicle_type):\n",
        "        self.type = vehicle_type\n",
        "\n",
        "    def display_type(self):\n",
        "        print(f\"Vehicle Type: {self.type}\")\n",
        "\n",
        "# Derived class\n",
        "class Car(Vehicle):\n",
        "    def __init__(self, vehicle_type, brand):\n",
        "        super().__init__(vehicle_type)\n",
        "        self.brand = brand\n",
        "\n",
        "    def display_brand(self):\n",
        "        print(f\"Car Brand: {self.brand}\")\n",
        "\n",
        "# Further derived class\n",
        "class ElectricCar(Car):\n",
        "    def __init__(self, vehicle_type, brand, battery_capacity):\n",
        "        super().__init__(vehicle_type, brand)\n",
        "        self.battery = battery_capacity\n",
        "\n",
        "    def display_battery(self):\n",
        "        print(f\"Battery Capacity: {self.battery} kWh\")\n",
        "\n",
        "# Create an object of ElectricCar\n",
        "ecar = ElectricCar(\"Four Wheeler\", \"Tesla\", 75)\n",
        "\n",
        "# Display information\n",
        "ecar.display_type()     # From Vehicle\n",
        "ecar.display_brand()    # From Car\n",
        "ecar.display_battery()  # From ElectricCar\n"
      ],
      "metadata": {
        "colab": {
          "base_uri": "https://localhost:8080/"
        },
        "id": "L4UhF87l5Uum",
        "outputId": "f54abda4-4a38-4851-8acf-b9dbdd60bdfc"
      },
      "execution_count": null,
      "outputs": [
        {
          "output_type": "stream",
          "name": "stdout",
          "text": [
            "Vehicle Type: Four Wheeler\n",
            "Car Brand: Tesla\n",
            "Battery Capacity: 75 kWh\n"
          ]
        }
      ]
    },
    {
      "cell_type": "markdown",
      "source": [
        "**Queswtion-4)** Demonstrate polymorphism by creating a base class Bird with a method fly(). Create two derived classes Sparrow and Penguin that override the fly() method."
      ],
      "metadata": {
        "id": "mtme1m-I6Q9l"
      }
    },
    {
      "cell_type": "code",
      "source": [
        "#Answer-4)\n",
        "\n",
        "# Base class\n",
        "class Bird:\n",
        "    def fly(self):\n",
        "        print(\"Bird is flying\")\n",
        "\n",
        "# Derived class: Sparrow\n",
        "class Sparrow(Bird):\n",
        "    def fly(self):\n",
        "        print(\"Sparrow flies high in the sky\")\n",
        "\n",
        "# Derived class: Penguin\n",
        "class Penguin(Bird):\n",
        "    def fly(self):\n",
        "        print(\"Penguins can't fly, they waddle and swim instead\")\n",
        "\n",
        "# Demonstrate polymorphism\n",
        "def show_flight(bird):\n",
        "    bird.fly()\n",
        "\n",
        "# Create objects\n",
        "sparrow = Sparrow()\n",
        "penguin = Penguin()\n",
        "\n",
        "# Call the function with different bird types\n",
        "show_flight(sparrow)   # Output: Sparrow flies high in the sky\n",
        "show_flight(penguin)   # Output: Penguins can't fly, they waddle and swim instead"
      ],
      "metadata": {
        "colab": {
          "base_uri": "https://localhost:8080/"
        },
        "id": "_jjJ5M_h6bXP",
        "outputId": "284433b2-b4ef-443b-eaf5-bee4c0082b1a"
      },
      "execution_count": null,
      "outputs": [
        {
          "output_type": "stream",
          "name": "stdout",
          "text": [
            "Sparrow flies high in the sky\n",
            "Penguins can't fly, they waddle and swim instead\n"
          ]
        }
      ]
    },
    {
      "cell_type": "markdown",
      "source": [
        "**Question-5)** Write a program to demonstrate encapsulation by creating a class BankAccount with private attributes balance and methods to deposit, withdraw, and check balance."
      ],
      "metadata": {
        "id": "11KzpgKB6wMM"
      }
    },
    {
      "cell_type": "code",
      "source": [
        "#Answer-5)\n",
        "\n",
        "class BankAccount:\n",
        "    def __init__(self, initial_balance=0):\n",
        "        self.__balance = initial_balance  # private attribute\n",
        "\n",
        "    def deposit(self, amount):\n",
        "        if amount > 0:\n",
        "            self.__balance += amount\n",
        "            print(f\"Deposited: ₹{amount}\")\n",
        "        else:\n",
        "            print(\"Deposit amount must be positive.\")\n",
        "\n",
        "    def withdraw(self, amount):\n",
        "        if 0 < amount <= self.__balance:\n",
        "            self.__balance -= amount\n",
        "            print(f\"Withdrawn: ₹{amount}\")\n",
        "        else:\n",
        "            print(\"Insufficient balance or invalid amount.\")\n",
        "\n",
        "    def check_balance(self):\n",
        "        print(f\"Current Balance: ₹{self.__balance}\")\n",
        "\n",
        "# Create a BankAccount object\n",
        "account = BankAccount(1000)\n",
        "\n",
        "# Use public methods to interact with private data\n",
        "account.check_balance()\n",
        "account.deposit(500)\n",
        "account.withdraw(300)\n",
        "account.check_balance()"
      ],
      "metadata": {
        "colab": {
          "base_uri": "https://localhost:8080/"
        },
        "id": "xVTNtcGU66wR",
        "outputId": "9efdfa95-ddb9-4393-bab8-52eb5274d32b"
      },
      "execution_count": 3,
      "outputs": [
        {
          "output_type": "stream",
          "name": "stdout",
          "text": [
            "Current Balance: ₹1000\n",
            "Deposited: ₹500\n",
            "Withdrawn: ₹300\n",
            "Current Balance: ₹1200\n"
          ]
        }
      ]
    },
    {
      "cell_type": "markdown",
      "source": [
        "**Question-6)** Demonstrate runtime polymorphism using a method play() in a base class Instrument. Derive classes Guitar and Piano that implement their own version of play()."
      ],
      "metadata": {
        "id": "hr1yw-bW5-f2"
      }
    },
    {
      "cell_type": "code",
      "source": [
        "#Answer-6)\n",
        "\n",
        "# Base class\n",
        "class Instrument:\n",
        "    def play(self):\n",
        "        print(\"Instrument is playing.\")\n",
        "\n",
        "# Derived class 1\n",
        "class Guitar(Instrument):\n",
        "    def play(self):\n",
        "        print(\"Guitar is playing a melody.\")\n",
        "\n",
        "# Derived class 2\n",
        "class Piano(Instrument):\n",
        "    def play(self):\n",
        "        print(\"Piano is playing a harmony.\")\n",
        "\n",
        "# Function to demonstrate runtime polymorphism\n",
        "def perform_play(instrument):\n",
        "    instrument.play()\n",
        "\n",
        "# Create objects of derived classes\n",
        "guitar = Guitar()\n",
        "piano = Piano()\n",
        "\n",
        "# Call the same method using base class reference\n",
        "perform_play(guitar)\n",
        "perform_play(piano)"
      ],
      "metadata": {
        "colab": {
          "base_uri": "https://localhost:8080/"
        },
        "id": "3-VqVln4R8t2",
        "outputId": "eaf021bd-f28d-49a3-c787-f7d5dbe9c9f0"
      },
      "execution_count": 2,
      "outputs": [
        {
          "output_type": "stream",
          "name": "stdout",
          "text": [
            "Guitar is playing a melody.\n",
            "Piano is playing a harmony.\n"
          ]
        }
      ]
    },
    {
      "cell_type": "markdown",
      "source": [
        "**Question-7)** . Create a class MathOperations with a class method add_numbers() to add two numbers and a static method subtract_numbers() to subtract two numbers."
      ],
      "metadata": {
        "id": "UJdGJXzu4j16"
      }
    },
    {
      "cell_type": "code",
      "source": [
        "#Answer-7)\n",
        "\n",
        "class MathOperations:\n",
        "\n",
        "    # Class method to add two numbers\n",
        "    @classmethod\n",
        "    def add_numbers(cls, a, b):\n",
        "        return a + b\n",
        "\n",
        "    # Static method to subtract two numbers\n",
        "    @staticmethod\n",
        "    def subtract_numbers(a, b):\n",
        "        return a - b\n",
        "\n",
        "# Using the class method\n",
        "sum_result = MathOperations.add_numbers(10, 5)\n",
        "print(\"Addition:\", sum_result)\n",
        "\n",
        "# Using the static method\n",
        "difference = MathOperations.subtract_numbers(10, 5)\n",
        "print(\"Subtraction:\", difference)"
      ],
      "metadata": {
        "colab": {
          "base_uri": "https://localhost:8080/"
        },
        "id": "QaKidot-TDjd",
        "outputId": "19e9375d-0afd-459e-8ac9-89e237fd099e"
      },
      "execution_count": 5,
      "outputs": [
        {
          "output_type": "stream",
          "name": "stdout",
          "text": [
            "Addition: 15\n",
            "Subtraction: 5\n"
          ]
        }
      ]
    },
    {
      "cell_type": "markdown",
      "source": [
        "**Question-8)** Implement a class Person with a class method to count the total number of persons created."
      ],
      "metadata": {
        "id": "-vYnWSNNTOhD"
      }
    },
    {
      "cell_type": "code",
      "source": [
        "#Answer-8)\n",
        "\n",
        "class Person:\n",
        "    # Class variable to keep track of the number of persons\n",
        "    count = 0\n",
        "\n",
        "    def __init__(self, name):\n",
        "        self.name = name\n",
        "        Person.count += 1  # Increment count whenever a new object is created\n",
        "\n",
        "    # Class method to get the total number of persons created\n",
        "    @classmethod\n",
        "    def get_person_count(cls):\n",
        "        return cls.count\n",
        "\n",
        "# Creating person objects\n",
        "p1 = Person(\"Alice\")\n",
        "p2 = Person(\"Bob\")\n",
        "p3 = Person(\"Charlie\")\n",
        "\n",
        "# Getting the total number of persons created\n",
        "print(\"Total number of persons created:\", Person.get_person_count())"
      ],
      "metadata": {
        "colab": {
          "base_uri": "https://localhost:8080/"
        },
        "id": "8zdReBjyTHtp",
        "outputId": "1e05a90a-8f68-4511-d7a7-e3fadcbd3434"
      },
      "execution_count": 6,
      "outputs": [
        {
          "output_type": "stream",
          "name": "stdout",
          "text": [
            "Total number of persons created: 3\n"
          ]
        }
      ]
    },
    {
      "cell_type": "markdown",
      "source": [
        "**Question-9)** Write a class Fraction with attributes numerator and denominator. Override the str method to display the fraction as \"numerator/denominator\"."
      ],
      "metadata": {
        "id": "bC9DTfrGTr8K"
      }
    },
    {
      "cell_type": "code",
      "source": [
        "#ANswer-9)\n",
        "\n",
        "class Fraction:\n",
        "    def __init__(self, numerator, denominator):\n",
        "        self.numerator = numerator\n",
        "        self.denominator = denominator\n",
        "\n",
        "    # Overriding the __str__ method\n",
        "    def __str__(self):\n",
        "        return f\"{self.numerator}/{self.denominator}\"\n",
        "\n",
        "# Creating fraction objects\n",
        "f1 = Fraction(3, 4)\n",
        "f2 = Fraction(5, 8)\n",
        "\n",
        "# Printing the fractions\n",
        "print(\"Fraction 1:\", f1)\n",
        "print(\"Fraction 2:\", f2)"
      ],
      "metadata": {
        "colab": {
          "base_uri": "https://localhost:8080/"
        },
        "id": "TT6cGoH9TpHC",
        "outputId": "20bc2b11-bf4d-4fa1-c7f0-c5ed2a82f4f7"
      },
      "execution_count": 7,
      "outputs": [
        {
          "output_type": "stream",
          "name": "stdout",
          "text": [
            "Fraction 1: 3/4\n",
            "Fraction 2: 5/8\n"
          ]
        }
      ]
    },
    {
      "cell_type": "markdown",
      "source": [
        "**Question-10)** Demonstrate operator overloading by creating a class Vector and overriding the add method to add two vectors."
      ],
      "metadata": {
        "id": "sKQlJlRMUJw2"
      }
    },
    {
      "cell_type": "code",
      "source": [
        "#Answer-10)\n",
        "\n",
        "class Vector:\n",
        "    def __init__(self, x, y):\n",
        "        self.x = x\n",
        "        self.y = y\n",
        "\n",
        "    # Overloading the + operator\n",
        "    def __add__(self, other):\n",
        "        return Vector(self.x + other.x, self.y + other.y)\n",
        "\n",
        "    # Overriding __str__ for readable output\n",
        "    def __str__(self):\n",
        "        return f\"Vector({self.x}, {self.y})\"\n",
        "\n",
        "# Creating vector objects\n",
        "v1 = Vector(2, 3)\n",
        "v2 = Vector(4, 5)\n",
        "\n",
        "# Adding two vectors using overloaded + operator\n",
        "v3 = v1 + v2\n",
        "\n",
        "# Printing the result\n",
        "print(\"Vector 1:\", v1)\n",
        "print(\"Vector 2:\", v2)\n",
        "print(\"Sum:\", v3)"
      ],
      "metadata": {
        "colab": {
          "base_uri": "https://localhost:8080/"
        },
        "id": "tjHSI02KUFD8",
        "outputId": "a492dea9-7155-4b85-bdba-251fefc8eb00"
      },
      "execution_count": 8,
      "outputs": [
        {
          "output_type": "stream",
          "name": "stdout",
          "text": [
            "Vector 1: Vector(2, 3)\n",
            "Vector 2: Vector(4, 5)\n",
            "Sum: Vector(6, 8)\n"
          ]
        }
      ]
    },
    {
      "cell_type": "markdown",
      "source": [
        "**Question-11)** Create a class Person with attributes name and age. Add a method greet() that prints \"Hello, my name is {name} and I am {age} years old.\""
      ],
      "metadata": {
        "id": "RlP_yl4QUm4I"
      }
    },
    {
      "cell_type": "code",
      "source": [
        "#Answer-11)\n",
        "\n",
        "class Person:\n",
        "    def __init__(self, name, age):\n",
        "        self.name = name\n",
        "        self.age = age\n",
        "\n",
        "    def greet(self):\n",
        "        print(f\"Hello, my name is {self.name} and I am {self.age} years old.\")\n",
        "\n",
        "# Creating person objects\n",
        "person1 = Person(\"Vimal\", 25)\n",
        "person2 = Person(\"Gaurav\", 30)\n",
        "\n",
        "# Calling the greet method\n",
        "person1.greet()\n",
        "person2.greet()"
      ],
      "metadata": {
        "colab": {
          "base_uri": "https://localhost:8080/"
        },
        "id": "SospLIXXUg4C",
        "outputId": "e52b04c2-af01-4c57-9202-aee787c7bc31"
      },
      "execution_count": 10,
      "outputs": [
        {
          "output_type": "stream",
          "name": "stdout",
          "text": [
            "Hello, my name is Vimal and I am 25 years old.\n",
            "Hello, my name is Gaurav and I am 30 years old.\n"
          ]
        }
      ]
    },
    {
      "cell_type": "markdown",
      "source": [
        "**Question-12)** Implement a class Student with attributes name and grades. Create a method average_grade() to compute the average of the grades."
      ],
      "metadata": {
        "id": "gnZE7AzGVOsL"
      }
    },
    {
      "cell_type": "code",
      "source": [
        "#Answer-12)\n",
        "\n",
        "class Student:\n",
        "    def __init__(self, name, grades):\n",
        "        self.name = name\n",
        "        self.grades = grades  # grades should be a list of numbers\n",
        "\n",
        "    def average_grade(self):\n",
        "        if not self.grades:\n",
        "            return 0  # Avoid division by zero\n",
        "        return sum(self.grades) / len(self.grades)\n",
        "\n",
        "# Creating student objects\n",
        "student1 = Student(\"Vimal\", [85, 90, 78])\n",
        "student2 = Student(\"Gaurav\", [72, 88, 95, 80])\n",
        "\n",
        "# Calculating and printing average grades\n",
        "print(f\"{student1.name}'s average grade: {student1.average_grade():.2f}\")\n",
        "print(f\"{student2.name}'s average grade: {student2.average_grade():.2f}\")"
      ],
      "metadata": {
        "colab": {
          "base_uri": "https://localhost:8080/"
        },
        "id": "EMVHrJlyVB75",
        "outputId": "29060b87-e392-4756-b907-dbfb6d711f92"
      },
      "execution_count": 12,
      "outputs": [
        {
          "output_type": "stream",
          "name": "stdout",
          "text": [
            "Vimal's average grade: 84.33\n",
            "Gaurav's average grade: 83.75\n"
          ]
        }
      ]
    },
    {
      "cell_type": "markdown",
      "source": [
        "**Question-13)** Create a class Rectangle with methods set_dimensions() to set the dimensions and area() to calculate the area."
      ],
      "metadata": {
        "id": "uIYkTnZJV6A0"
      }
    },
    {
      "cell_type": "code",
      "source": [
        "#Answer-13)\n",
        "\n",
        "class Rectangle:\n",
        "    def __init__(self):\n",
        "        self.length = 0\n",
        "        self.width = 0\n",
        "\n",
        "    def set_dimensions(self, length, width):\n",
        "        self.length = length\n",
        "        self.width = width\n",
        "\n",
        "    def area(self):\n",
        "        return self.length * self.width\n",
        "\n",
        "# Create a Rectangle object\n",
        "rect = Rectangle()\n",
        "\n",
        "rect.set_dimensions(5, 3)\n",
        "\n",
        "# Calculate and print area\n",
        "print(\"Area of rectangle:\", rect.area())"
      ],
      "metadata": {
        "colab": {
          "base_uri": "https://localhost:8080/"
        },
        "id": "R3PRih-uVx1K",
        "outputId": "8a902f19-42dc-4003-e9f6-13a44922664d"
      },
      "execution_count": 14,
      "outputs": [
        {
          "output_type": "stream",
          "name": "stdout",
          "text": [
            "Area of rectangle: 15\n"
          ]
        }
      ]
    },
    {
      "cell_type": "markdown",
      "source": [
        "**Question-14)** Create a class Employee with a method calculate_salary() that computes the salary based on hours worked and hourly rate. Create a derived class Manager that adds a bonus to the salary."
      ],
      "metadata": {
        "id": "pqceyPlTWm-N"
      }
    },
    {
      "cell_type": "code",
      "source": [
        "#Answer-14)\n",
        "\n",
        "# Base class\n",
        "class Employee:\n",
        "    def __init__(self, hours_worked, hourly_rate):\n",
        "        self.hours_worked = hours_worked\n",
        "        self.hourly_rate = hourly_rate\n",
        "\n",
        "    def calculate_salary(self):\n",
        "        return self.hours_worked * self.hourly_rate\n",
        "\n",
        "# Derived class\n",
        "class Manager(Employee):\n",
        "    def __init__(self, hours_worked, hourly_rate, bonus):\n",
        "        super().__init__(hours_worked, hourly_rate)\n",
        "        self.bonus = bonus\n",
        "\n",
        "    def calculate_salary(self):\n",
        "        base_salary = super().calculate_salary()\n",
        "        return base_salary + self.bonus\n",
        "\n",
        "# Creating Employee object\n",
        "emp = Employee(40, 20)  # 40 hours, ₹20/hour\n",
        "print(\"Employee Salary:\", emp.calculate_salary())\n",
        "\n",
        "# Creating Manager object\n",
        "mgr = Manager(40, 30, 500)  # 40 hours, ₹30/hour, ₹500 bonus\n",
        "print(\"Manager Salary:\", mgr.calculate_salary())"
      ],
      "metadata": {
        "colab": {
          "base_uri": "https://localhost:8080/"
        },
        "id": "YitRgZrKWY_N",
        "outputId": "4cb67c30-2520-45c0-e500-2154468665bf"
      },
      "execution_count": 15,
      "outputs": [
        {
          "output_type": "stream",
          "name": "stdout",
          "text": [
            "Employee Salary: 800\n",
            "Manager Salary: 1700\n"
          ]
        }
      ]
    },
    {
      "cell_type": "markdown",
      "source": [
        "**Question-15)** Create a class Product with attributes name, price, and quantity. Implement a method total_price() that calculates the total price of the product."
      ],
      "metadata": {
        "id": "BgeZcX7kXPG6"
      }
    },
    {
      "cell_type": "code",
      "source": [
        "#Answer-15)\n",
        "\n",
        "class Product:\n",
        "    def __init__(self, name, price, quantity):\n",
        "        self.name = name\n",
        "        self.price = price\n",
        "        self.quantity = quantity\n",
        "\n",
        "    def total_price(self):\n",
        "        return self.price * self.quantity\n",
        "\n",
        "# Creating product objects\n",
        "product1 = Product(\"Pen\", 10, 5)\n",
        "product2 = Product(\"Notebook\", 50, 3)\n",
        "\n",
        "# Calculating and printing total prices\n",
        "print(f\"Total price of {product1.name}s: ₹{product1.total_price()}\")\n",
        "print(f\"Total price of {product2.name}s: ₹{product2.total_price()}\")"
      ],
      "metadata": {
        "colab": {
          "base_uri": "https://localhost:8080/"
        },
        "id": "kHY4JYOsXI0d",
        "outputId": "ce349fe4-2161-4cea-c393-da606ed10369"
      },
      "execution_count": 16,
      "outputs": [
        {
          "output_type": "stream",
          "name": "stdout",
          "text": [
            "Total price of Pens: ₹50\n",
            "Total price of Notebooks: ₹150\n"
          ]
        }
      ]
    },
    {
      "cell_type": "markdown",
      "source": [
        "**Question-16)** Create a class Animal with an abstract method sound(). Create two derived classes Cow and Sheep that implement the sound() method."
      ],
      "metadata": {
        "id": "2aTulgnaX2JX"
      }
    },
    {
      "cell_type": "code",
      "source": [
        "#Answewr-16)\n",
        "\n",
        "from abc import ABC, abstractmethod\n",
        "\n",
        "# Abstract base class\n",
        "class Animal(ABC):\n",
        "\n",
        "    @abstractmethod\n",
        "    def sound(self):\n",
        "        pass\n",
        "\n",
        "# Derived class Cow\n",
        "class Cow(Animal):\n",
        "    def sound(self):\n",
        "        print(\"Cow says Moo\")\n",
        "\n",
        "# Derived class Sheep\n",
        "class Sheep(Animal):\n",
        "    def sound(self):\n",
        "        print(\"Sheep says Baa\")\n",
        "\n",
        "# Create objects and call the sound() method\n",
        "cow = Cow()\n",
        "sheep = Sheep()\n",
        "\n",
        "cow.sound()\n",
        "sheep.sound()"
      ],
      "metadata": {
        "colab": {
          "base_uri": "https://localhost:8080/"
        },
        "id": "DMjWUQORXyo6",
        "outputId": "c013a1be-89d4-40e0-a65c-92fdf8658965"
      },
      "execution_count": 17,
      "outputs": [
        {
          "output_type": "stream",
          "name": "stdout",
          "text": [
            "Cow says Moo\n",
            "Sheep says Baa\n"
          ]
        }
      ]
    },
    {
      "cell_type": "markdown",
      "source": [
        "**Question-17)** Create a class Book with attributes title, author, and year_published. Add a method get_book_info() that returns a formatted string with the book's details."
      ],
      "metadata": {
        "id": "FC_TTFZjYjPQ"
      }
    },
    {
      "cell_type": "code",
      "source": [
        "#ANSWER-17)\n",
        "\n",
        "class Book:\n",
        "    def __init__(self, title, author, year_published):\n",
        "        self.title = title\n",
        "        self.author = author\n",
        "        self.year_published = year_published\n",
        "\n",
        "    def get_book_info(self):\n",
        "        return f\"'{self.title}' by {self.author}, published in {self.year_published}\"\n",
        "\n",
        "# Creating book objects\n",
        "book1 = Book(\"To Kill a Mockingbird\", \"Harper Lee\", 1960)\n",
        "book2 = Book(\"1984\", \"George Orwell\", 1949)\n",
        "\n",
        "# Printing book information\n",
        "print(book1.get_book_info())\n",
        "print(book2.get_book_info())"
      ],
      "metadata": {
        "colab": {
          "base_uri": "https://localhost:8080/"
        },
        "id": "-ucPHGrLYUan",
        "outputId": "483a1f01-4b69-4ecb-f632-e250287deac9"
      },
      "execution_count": 18,
      "outputs": [
        {
          "output_type": "stream",
          "name": "stdout",
          "text": [
            "'To Kill a Mockingbird' by Harper Lee, published in 1960\n",
            "'1984' by George Orwell, published in 1949\n"
          ]
        }
      ]
    },
    {
      "cell_type": "markdown",
      "source": [
        "**Question-18)** Create a class House with attributes address and price. Create a derived class Mansion that adds an attribute number_of_rooms."
      ],
      "metadata": {
        "id": "O-xuSZMPZHyc"
      }
    },
    {
      "cell_type": "code",
      "source": [
        "#Answer-18)\n",
        "\n",
        "# Base class\n",
        "class House:\n",
        "    def __init__(self, address, price):\n",
        "        self.address = address\n",
        "        self.price = price\n",
        "\n",
        "    def get_info(self):\n",
        "        return f\"Address: {self.address}, Price: ₹{self.price}\"\n",
        "\n",
        "# Derived class\n",
        "class Mansion(House):\n",
        "    def __init__(self, address, price, number_of_rooms):\n",
        "        super().__init__(address, price)\n",
        "        self.number_of_rooms = number_of_rooms\n",
        "\n",
        "    def get_info(self):\n",
        "        base_info = super().get_info()\n",
        "        return f\"{base_info}, Rooms: {self.number_of_rooms}\"\n",
        "\n",
        "# Create objects\n",
        "house = House(\"123 Green Street\", 5000000)\n",
        "mansion = Mansion(\"1 Palace Road\", 25000000, 10)\n",
        "\n",
        "# Print info\n",
        "print(\"House Info:\", house.get_info())\n",
        "print(\"Mansion Info:\", mansion.get_info())"
      ],
      "metadata": {
        "colab": {
          "base_uri": "https://localhost:8080/"
        },
        "id": "hmc4DyQuZCoK",
        "outputId": "f1f14d9b-a001-448b-b08b-a9e6a8c97dc2"
      },
      "execution_count": 19,
      "outputs": [
        {
          "output_type": "stream",
          "name": "stdout",
          "text": [
            "House Info: Address: 123 Green Street, Price: ₹5000000\n",
            "Mansion Info: Address: 1 Palace Road, Price: ₹25000000, Rooms: 10\n"
          ]
        }
      ]
    },
    {
      "cell_type": "code",
      "source": [],
      "metadata": {
        "id": "0sBVbBs3Zkjx"
      },
      "execution_count": null,
      "outputs": []
    }
  ]
}